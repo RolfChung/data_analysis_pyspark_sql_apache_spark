{
 "cells": [
  {
   "cell_type": "markdown",
   "metadata": {},
   "source": [
    "# Summary\n",
    "\n",
    "<p>\n",
    "This project is doing explorative data analysis using the pyspark and sql application programming interfaces (API's) of Apache spark.\n",
    "</p> \n",
    "\n",
    "<p>\n",
    "Apache Spark is an open-source engine developed specifically for handling large-scale data processing and analytics. Spark offers the ability to access data in a variety of sources. Apache Spark is designed to accelerate analytics on Hadoop with speed and efficiency.\n",
    "</p> \n",
    "<a href=\"https://www.webopedia.com/TERM/A/apache-spark.html\" target=\"_blank\">webopedia</a> \n",
    "\n",
    "<p>\n",
    "The airtraffic system data records consist of the tables flights, planes,\n",
    "and airports. The data sources used  are csv-files stored locally. \n",
    "The functions and methods applied here include SQL-queries and\n",
    "SQL-calculations and pyspark implementations like select, filter,\n",
    "collect, join, and aggregate. Those can of course applied to Big Data on remote machines. This is the whole point of the Apache Spark system architecture. It allows even analysing streaming data in real time.\n",
    "</p> \n",
    "\n",
    "\n",
    "\n",
    "<img src=\"spark_architecture.jpg\" alt=\"Smiley face\" align=\"left\"  style=\"margin-left: 0px; margin-right: 0px; margin-top: 20px; margin-bottom: 20px; float: left; width: 800px; height: 300px\"> \n"
   ]
  },
  {
   "cell_type": "markdown",
   "metadata": {},
   "source": [
    "## Import packages"
   ]
  },
  {
   "cell_type": "code",
   "execution_count": 313,
   "metadata": {},
   "outputs": [],
   "source": [
    "# Import SparkSession from pyspark.sql\n",
    "from pyspark.sql import SparkSession\n",
    "from pyspark.sql import *\n",
    "from pyspark.rdd import RDD\n",
    "from pyspark.sql.functions import mean, stddev , col, avg, round\n",
    "from pyspark.sql.types import IntegerType, FloatType\n",
    "import pyspark.sql.functions as F\n",
    "from pyspark.sql.functions import isnan\n",
    "\n",
    "import pandas as pd\n",
    "import matplotlib.pyplot as plt\n",
    "import numpy as np\n",
    "import os\n"
   ]
  },
  {
   "cell_type": "markdown",
   "metadata": {},
   "source": [
    "### Inspect working directory"
   ]
  },
  {
   "cell_type": "code",
   "execution_count": 314,
   "metadata": {},
   "outputs": [
    {
     "name": "stdout",
     "output_type": "stream",
     "text": [
      "C:\\Users\\gamarandor\\spark\\spark-3.0.0-preview-bin-hadoop2.7\\projects\n",
      "C:\\Users\\gamarandor\\spark\\spark-3.0.0-preview-bin-hadoop2.7\\projects\n"
     ]
    }
   ],
   "source": [
    "cwd_1=os.getcwd()\n",
    "# print(cwd_1)\n",
    "os.chdir(r'C:\\Users\\gamarandor\\spark\\spark-3.0.0-preview-bin-hadoop2.7\\projects')\n",
    "cwd_2=os.getcwd()\n",
    "# print(cwd_2)"
   ]
  },
  {
   "cell_type": "markdown",
   "metadata": {},
   "source": [
    "## Initializing Spark\n",
    "\n",
    "<p>\n",
    "\"A SparkSession is beyond a time-bounded interaction, SparkSession provides a single point of entry to interact with underlying Spark functionality and allows programming Spark with DataFrame and Dataset APIs. Most importantly, it curbs the number of concepts and constructs a developer has to juggle while interacting with Spark.\"\n",
    "</p> \n",
    "<a href=\"https://databricks.com/blog/2016/08/15/how-to-use-sparksession-in-apache-spark-2-0.html\" target=\"_blank\">Class SparkSession</a> \n",
    "\n",
    "<p>\n",
    "\"A SparkContext represents the connection to a Spark cluster, \n",
    "and can be used to create RDDs, accumulators and broadcast variables \n",
    "on that cluster.\" The SparkContext is the entry point into the cluster. Without creating a SparkContext nothing in the Spark session will work.\n",
    "</p> \n",
    "<a href=\"https://spark.apache.org/docs/2.0.2/api/java/org/apache/spark/SparkContext.html\" target=\"_blank\">Class SparkContext</a> \n",
    "\n",
    "\n",
    "\n",
    "\n",
    "\n",
    "\n"
   ]
  },
  {
   "cell_type": "code",
   "execution_count": 315,
   "metadata": {},
   "outputs": [
    {
     "name": "stdout",
     "output_type": "stream",
     "text": [
      "<pyspark.sql.session.SparkSession object at 0x000001BDFFA0D748>\n"
     ]
    }
   ],
   "source": [
    "\n",
    "# Create my_spark\n",
    "my_spark = SparkSession.builder.getOrCreate()\n",
    "print(my_spark)"
   ]
  },
  {
   "cell_type": "code",
   "execution_count": 316,
   "metadata": {},
   "outputs": [
    {
     "name": "stdout",
     "output_type": "stream",
     "text": [
      "<pyspark.sql.context.SQLContext object at 0x000001BD82F092C8>\n"
     ]
    }
   ],
   "source": [
    "## Create Spark context \n",
    "sqlContext = SQLContext (sc)\n",
    "print(sqlContext)\n"
   ]
  },
  {
   "cell_type": "markdown",
   "metadata": {},
   "source": [
    "## Inspect spark context"
   ]
  },
  {
   "cell_type": "code",
   "execution_count": 317,
   "metadata": {},
   "outputs": [
    {
     "name": "stdout",
     "output_type": "stream",
     "text": [
      "<SparkContext master=local[*] appName=PySparkShell>\n",
      "3.0.0-preview\n",
      "local[*]\n",
      "None\n",
      "gamarandor\n",
      "PySparkShell\n",
      "local-1577709017262\n",
      "4\n",
      "2\n"
     ]
    }
   ],
   "source": [
    "# Verify SparkContext\n",
    "print(sc)\n",
    "\n",
    "# Print Spark version\n",
    "print(sc.version)\n",
    "\n",
    "# Master URL to connect to\n",
    "print(sc.master)\n",
    "\n",
    "# Path where Spark is installed on worker nodes\n",
    "print(str(sc.sparkHome))\n",
    "\n",
    "# Retrieve name of the Spark User running\n",
    "print(str(sc.sparkUser()))\n",
    "\n",
    "# Return application name\n",
    "print(sc.appName)\n",
    "\n",
    "# Retrieve application ID\n",
    "print(sc.applicationId)\n",
    "\n",
    "# Return default level of parallelism \n",
    "print(sc.defaultParallelism)\n",
    "\n",
    "# Default minimum number of partitions for RDDs\n",
    "print(sc.defaultMinPartitions)"
   ]
  },
  {
   "cell_type": "markdown",
   "metadata": {},
   "source": [
    "## Reading csv-files into the Spark cluster"
   ]
  },
  {
   "cell_type": "code",
   "execution_count": 318,
   "metadata": {},
   "outputs": [
    {
     "name": "stdout",
     "output_type": "stream",
     "text": [
      "DataFrame[tailnum: string, year: string, type: string, manufacturer: string, model: string, engines: int, seats: int, speed: string, engine: string]\n"
     ]
    }
   ],
   "source": [
    "path_source = r\"planes.csv\"\n",
    "\n",
    "df_planes = sqlContext.read.load (path_source,\n",
    "                           format='com.databricks.spark.csv',\n",
    "                           header='true',\n",
    "                           inferSchema='true')\n",
    "                           \n",
    "print(df_planes)"
   ]
  },
  {
   "cell_type": "code",
   "execution_count": 319,
   "metadata": {},
   "outputs": [
    {
     "name": "stdout",
     "output_type": "stream",
     "text": [
      "planes_csv\n"
     ]
    }
   ],
   "source": [
    "temp_table_name = \"planes_csv\"\n",
    "print(temp_table_name)"
   ]
  },
  {
   "cell_type": "code",
   "execution_count": 320,
   "metadata": {},
   "outputs": [],
   "source": [
    "df_planes.createOrReplaceTempView(temp_table_name)"
   ]
  },
  {
   "cell_type": "code",
   "execution_count": 321,
   "metadata": {},
   "outputs": [],
   "source": [
    "src_flights = r\"flights_small.csv\"\n",
    "\n",
    "df_flights = sqlContext.read.load (src_flights,\n",
    "                           format='com.databricks.spark.csv',\n",
    "                           header='true',\n",
    "                           inferSchema='true')"
   ]
  },
  {
   "cell_type": "code",
   "execution_count": 322,
   "metadata": {},
   "outputs": [
    {
     "name": "stdout",
     "output_type": "stream",
     "text": [
      "StructType(List(StructField(year,IntegerType,true),StructField(month,IntegerType,true),StructField(day,IntegerType,true),StructField(dep_time,StringType,true),StructField(dep_delay,StringType,true),StructField(arr_time,StringType,true),StructField(arr_delay,StringType,true),StructField(carrier,StringType,true),StructField(tailnum,StringType,true),StructField(flight,IntegerType,true),StructField(origin,StringType,true),StructField(dest,StringType,true),StructField(air_time,StringType,true),StructField(distance,IntegerType,true),StructField(hour,StringType,true),StructField(minute,StringType,true)))\n",
      "\n",
      "df_flights\n"
     ]
    }
   ],
   "source": [
    "# schema delivers the data types of the variables or columns\n",
    "print(df_flights.schema)\n",
    "\n",
    "print(\"\")\n",
    "temp_table_name_2 = \"df_flights\"\n",
    "print(temp_table_name_2)\n",
    "df_flights.createOrReplaceTempView(temp_table_name_2)"
   ]
  },
  {
   "cell_type": "code",
   "execution_count": 323,
   "metadata": {},
   "outputs": [
    {
     "data": {
      "text/plain": [
       "StructType(List(StructField(faa,StringType,true),StructField(name,StringType,true),StructField(lat,DoubleType,true),StructField(lon,DoubleType,true),StructField(alt,IntegerType,true),StructField(tz,IntegerType,true),StructField(dst,StringType,true)))"
      ]
     },
     "execution_count": 323,
     "metadata": {},
     "output_type": "execute_result"
    }
   ],
   "source": [
    "src_airports =  r\"airports.csv\"\n",
    "\n",
    "df_airports = sqlContext.read.load (src_airports,\n",
    "                           format='com.databricks.spark.csv',\n",
    "                           header='true',\n",
    "                           inferSchema='true')\n",
    "df_airports.schema"
   ]
  },
  {
   "cell_type": "code",
   "execution_count": 324,
   "metadata": {},
   "outputs": [
    {
     "name": "stdout",
     "output_type": "stream",
     "text": [
      "df_airports\n"
     ]
    }
   ],
   "source": [
    "temp_table_name_3 = \"df_airports\"\n",
    "print(temp_table_name_3)\n",
    "df_airports.createOrReplaceTempView(temp_table_name_3)"
   ]
  },
  {
   "cell_type": "markdown",
   "metadata": {},
   "source": [
    "#### Check if object is a data frame or RDD"
   ]
  },
  {
   "cell_type": "code",
   "execution_count": 325,
   "metadata": {},
   "outputs": [
    {
     "data": {
      "text/plain": [
       "'DataFrame'"
      ]
     },
     "execution_count": 325,
     "metadata": {},
     "output_type": "execute_result"
    }
   ],
   "source": [
    "def check_df(x):\n",
    "    if isinstance(x, RDD):\n",
    "        return \"RDD\"\n",
    "    if isinstance(x, DataFrame):\n",
    "        return \"DataFrame\"\n",
    "    \n",
    "check_df(df_airports)"
   ]
  },
  {
   "cell_type": "markdown",
   "metadata": {},
   "source": [
    "### SparkSession.catalog.listTables()\n",
    "<p>\n",
    "The attribute catalog of the active Spark session lists the data \n",
    "inside the cluster. The .listTables() method generates\n",
    "all the tables inside the cluster as a list. \n",
    "This helps to get orientation.\n",
    "</p>"
   ]
  },
  {
   "cell_type": "code",
   "execution_count": 326,
   "metadata": {},
   "outputs": [
    {
     "name": "stdout",
     "output_type": "stream",
     "text": [
      "[Table(name='airports2_tbl', database=None, description=None, tableType='TEMPORARY', isTemporary=True), Table(name='df_airports', database=None, description=None, tableType='TEMPORARY', isTemporary=True), Table(name='df_flights', database=None, description=None, tableType='TEMPORARY', isTemporary=True), Table(name='flights2_tbl', database=None, description=None, tableType='TEMPORARY', isTemporary=True), Table(name='planes2tbl', database=None, description=None, tableType='TEMPORARY', isTemporary=True), Table(name='planes_csv', database=None, description=None, tableType='TEMPORARY', isTemporary=True), Table(name='temp_df_198', database=None, description=None, tableType='TEMPORARY', isTemporary=True)]\n"
     ]
    }
   ],
   "source": [
    "print(my_spark.catalog.listTables())"
   ]
  },
  {
   "cell_type": "markdown",
   "metadata": {},
   "source": [
    "# Explorative data analysis\n",
    "\n",
    "to determine the current status of the airtraffic system."
   ]
  },
  {
   "cell_type": "markdown",
   "metadata": {},
   "source": [
    "### Using Pyspark SQL\n",
    "\n",
    "<p>\n",
    "for explorative data analysis by applying optimized data queries to Spark session objects. In this case the object are SQL tables made available to sqlContext above.\n",
    "</p> \n"
   ]
  },
  {
   "cell_type": "markdown",
   "metadata": {},
   "source": [
    "#### Table: airports"
   ]
  },
  {
   "cell_type": "code",
   "execution_count": 327,
   "metadata": {},
   "outputs": [
    {
     "name": "stdout",
     "output_type": "stream",
     "text": [
      "+---+--------------------+----------+-----------+----+---+---+\n",
      "|faa|                name|       lat|        lon| alt| tz|dst|\n",
      "+---+--------------------+----------+-----------+----+---+---+\n",
      "|04G|   Lansdowne Airport|41.1304722|-80.6195833|1044| -5|  A|\n",
      "|06A|Moton Field Munic...|32.4605722|-85.6800278| 264| -5|  A|\n",
      "|06C| Schaumburg Regional|41.9893408|-88.1012428| 801| -6|  A|\n",
      "|06N|     Randall Airport| 41.431912|-74.3915611| 523| -5|  A|\n",
      "|09J|Jekyll Island Air...|31.0744722|-81.4277778|  11| -4|  A|\n",
      "|0A9|Elizabethton Muni...|36.3712222|-82.1734167|1593| -4|  A|\n",
      "+---+--------------------+----------+-----------+----+---+---+\n",
      "only showing top 6 rows\n",
      "\n"
     ]
    },
    {
     "data": {
      "text/plain": [
       "A    1329\n",
       "U      45\n",
       "N      23\n",
       "Name: dst, dtype: int64"
      ]
     },
     "execution_count": 327,
     "metadata": {},
     "output_type": "execute_result"
    }
   ],
   "source": [
    "# Select all from aiports but limit the view to 6 records of the table.\n",
    "\n",
    "query_1 = \"FROM df_airports SELECT *\"\n",
    "\n",
    "airports6 = spark.sql(query_1)\n",
    "\n",
    "airports6.show(6)\n",
    "\n",
    "airports6_pd = airports6.toPandas()\n",
    "airports6_pd['dst'].value_counts()"
   ]
  },
  {
   "cell_type": "markdown",
   "metadata": {},
   "source": [
    "#### Little dashboard"
   ]
  },
  {
   "cell_type": "code",
   "execution_count": 328,
   "metadata": {},
   "outputs": [
    {
     "data": {
      "image/png": "[encoded data removed]",
      "text/plain": [
       "<Figure size 720x504 with 4 Axes>"
      ]
     },
     "metadata": {
      "needs_background": "light"
     },
     "output_type": "display_data"
    }
   ],
   "source": [
    "fig, axs = plt.subplots(2,2, tight_layout=True, figsize=(10,7))\n",
    "plt.suptitle('Distribution of variables')\n",
    "\n",
    "\n",
    "axs[0,0].hist(x=airports6_pd['dst'], edgecolor='black', \n",
    "                  linewidth=4,  color='#fabebe')\n",
    "axs[0,0].set_title('dst')\n",
    "axs[0,1].hist(x=airports6_pd['alt'], edgecolor='black', \n",
    "              linewidth=4, color='#fabebe')\n",
    "axs[0,1].set_title('alt')\n",
    "axs[1,0].hist(x=airports6_pd['lon'], edgecolor='black', \n",
    "              linewidth=4, color='#fabebe')\n",
    "axs[1,0].set_title('lon')\n",
    "axs[1,1].hist(x=airports6_pd['lat'], edgecolor='black', \n",
    "              linewidth=4, color='#fabebe')\n",
    "axs[1,1].set_title('lat')\n",
    "\n",
    "\n",
    "plt.show()"
   ]
  },
  {
   "cell_type": "code",
   "execution_count": 329,
   "metadata": {},
   "outputs": [
    {
     "name": "stdout",
     "output_type": "stream",
     "text": [
      "+--------------------+\n",
      "|                name|\n",
      "+--------------------+\n",
      "| Igor I Sikorsky Mem|\n",
      "|Burlington-Alaman...|\n",
      "|        Laughlin Afb|\n",
      "|           Sussex Co|\n",
      "|   Lansing Municipal|\n",
      "|Delaware County A...|\n",
      "|     Rampart Airport|\n",
      "|   Lansdowne Airport|\n",
      "|Borrego Valley Ai...|\n",
      "|      Egegik Airport|\n",
      "|      Craven Co Rgnl|\n",
      "|      Jonesboro Muni|\n",
      "|      Ramona Airport|\n",
      "| Scammon Bay Airport|\n",
      "|           Moody Afb|\n",
      "|                KBWD|\n",
      "|Lost Nation Munic...|\n",
      "|           Davis Fld|\n",
      "|         Mobile Rgnl|\n",
      "|       Idlewild Intl|\n",
      "+--------------------+\n",
      "only showing top 20 rows\n",
      "\n"
     ]
    }
   ],
   "source": [
    "query_3 = \"FROM df_airports SELECT DISTINCT name\"\n",
    "\n",
    "aiports_unique = spark.sql(query_3)\n",
    "\n",
    "aiports_unique.show()"
   ]
  },
  {
   "cell_type": "code",
   "execution_count": 330,
   "metadata": {},
   "outputs": [
    {
     "name": "stdout",
     "output_type": "stream",
     "text": [
      "+---+--------------------+----------+-----------+----+---+---+\n",
      "|faa|                name|       lat|        lon| alt| tz|dst|\n",
      "+---+--------------------+----------+-----------+----+---+---+\n",
      "|04G|   Lansdowne Airport|41.1304722|-80.6195833|1044| -5|  A|\n",
      "|06A|Moton Field Munic...|32.4605722|-85.6800278| 264| -5|  A|\n",
      "|06N|     Randall Airport| 41.431912|-74.3915611| 523| -5|  A|\n",
      "|0G6|Williams County A...|41.4673056|-84.5067778| 730| -5|  A|\n",
      "|0G7|Finger Lakes Regi...|42.8835647|-76.7812318| 492| -5|  A|\n",
      "|0W3|Harford County Ai...|39.5668378|-76.2024028| 409| -5|  A|\n",
      "+---+--------------------+----------+-----------+----+---+---+\n",
      "\n"
     ]
    }
   ],
   "source": [
    "# Select all airports with timezone -5 and destination A\n",
    "\n",
    "query_3 = \"FROM df_airports SELECT *  WHERE tz = -5 AND dst = 'A' LIMIT 6\"\n",
    "\n",
    "airports_tz = spark.sql(query_3)\n",
    "\n",
    "airports_tz.show()\n",
    "\n"
   ]
  },
  {
   "cell_type": "code",
   "execution_count": 331,
   "metadata": {},
   "outputs": [
    {
     "name": "stdout",
     "output_type": "stream",
     "text": [
      "   faa                           name        lat        lon   alt  tz dst\n",
      "0  04G              Lansdowne Airport  41.130472 -80.619583  1044  -5   A\n",
      "1  06A  Moton Field Municipal Airport  32.460572 -85.680028   264  -5   A\n",
      "0    41.130472\n",
      "1    32.460572\n",
      "2    41.431912\n",
      "3    41.467306\n",
      "Name: lat, dtype: float64\n",
      "0\n"
     ]
    },
    {
     "data": {
      "image/png": "[encoded data removed]",
      "text/plain": [
       "<Figure size 720x288 with 2 Axes>"
      ]
     },
     "metadata": {
      "needs_background": "light"
     },
     "output_type": "display_data"
    }
   ],
   "source": [
    "airports_tz_pd = airports_tz.toPandas()\n",
    "print(airports_tz_pd .head(2))\n",
    "\n",
    "print(airports_tz_pd.loc[:3,'lat'])\n",
    "print(airports_tz_pd['lat'].isnull().sum())\n",
    "\n",
    "fig, axs = plt.subplots(1,2, tight_layout=True, figsize=(10,4))\n",
    "\n",
    "\n",
    "axs[0].hist(x=airports_tz_pd['lat'], color='turquoise', \n",
    "                           edgecolor='dimgray', linewidth=5)\n",
    "axs[0].set_title('Distribution of lat')\n",
    "\n",
    "axs[1].hist(x=airports_tz_pd['lon'], color='orchid', \n",
    "                           edgecolor='black', linewidth=5)\n",
    "axs[1].set_title('Distribution of lon')\n",
    "\n",
    "plt.show()"
   ]
  },
  {
   "cell_type": "code",
   "execution_count": 332,
   "metadata": {},
   "outputs": [
    {
     "name": "stdout",
     "output_type": "stream",
     "text": [
      "+--------------------+\n",
      "|                name|\n",
      "+--------------------+\n",
      "|  Atmautluak Airport|\n",
      "|Ashland County Ai...|\n",
      "|Apalachicola Regi...|\n",
      "|        Abilene Rgnl|\n",
      "|      Ambler Airport|\n",
      "|Albuquerque Inter...|\n",
      "|Aberdeen Regional...|\n",
      "|              Arcata|\n",
      "|  Atlantic City Intl|\n",
      "|        Adak Airport|\n",
      "|        Ardmore Muni|\n",
      "|             Addison|\n",
      "|         Andrews Afb|\n",
      "|   Allakaket Airport|\n",
      "|     Alexandria Intl|\n",
      "|Allegheny County ...|\n",
      "|Angoon Seaplane Base|\n",
      "|Augusta Rgnl At B...|\n",
      "|Athens Ben Epps A...|\n",
      "|Alliance Municipa...|\n",
      "+--------------------+\n",
      "only showing top 20 rows\n",
      "\n"
     ]
    }
   ],
   "source": [
    "# Select all aiports, which name starts with A\n",
    "\n",
    "query_4 = \"FROM df_airports SELECT name WHERE name LIKE 'A%'\"\n",
    "\n",
    "airports_like = spark.sql(query_4)\n",
    "\n",
    "airports_like.show()"
   ]
  },
  {
   "cell_type": "markdown",
   "metadata": {},
   "source": [
    "#### Table: flights"
   ]
  },
  {
   "cell_type": "code",
   "execution_count": 333,
   "metadata": {},
   "outputs": [
    {
     "name": "stdout",
     "output_type": "stream",
     "text": [
      "+----+-----+---+--------+---------+--------+---------+-------+-------+------+------+----+--------+--------+----+------+\n",
      "|year|month|day|dep_time|dep_delay|arr_time|arr_delay|carrier|tailnum|flight|origin|dest|air_time|distance|hour|minute|\n",
      "+----+-----+---+--------+---------+--------+---------+-------+-------+------+------+----+--------+--------+----+------+\n",
      "|2014|   12|  8|     658|       -7|     935|       -5|     VX| N846VA|  1780|   SEA| LAX|     132|     954|   6|    58|\n",
      "|2014|    1| 22|    1040|        5|    1505|        5|     AS| N559AS|   851|   SEA| HNL|     360|    2677|  10|    40|\n",
      "|2014|    3|  9|    1443|       -2|    1652|        2|     VX| N847VA|   755|   SEA| SFO|     111|     679|  14|    43|\n",
      "|2014|    4|  9|    1705|       45|    1839|       34|     WN| N360SW|   344|   PDX| SJC|      83|     569|  17|     5|\n",
      "|2014|    3|  9|     754|       -1|    1015|        1|     AS| N612AS|   522|   SEA| BUR|     127|     937|   7|    54|\n",
      "+----+-----+---+--------+---------+--------+---------+-------+-------+------+------+----+--------+--------+----+------+\n",
      "\n"
     ]
    }
   ],
   "source": [
    "# Don't change this query\n",
    "query_5 = \"FROM df_flights SELECT * LIMIT 5\"\n",
    "\n",
    "# Get the first 10 rows of flights\n",
    "flights5 = spark.sql(query_5)\n",
    "\n",
    "# Show the results\n",
    "flights5.show()"
   ]
  },
  {
   "cell_type": "code",
   "execution_count": 334,
   "metadata": {},
   "outputs": [
    {
     "name": "stdout",
     "output_type": "stream",
     "text": [
      "+-----------------------------+\n",
      "|sum(CAST(air_time AS DOUBLE))|\n",
      "+-----------------------------+\n",
      "|                    1517376.0|\n",
      "+-----------------------------+\n",
      "\n"
     ]
    }
   ],
   "source": [
    "# Calculate total airtime of all flights\n",
    "\n",
    "query_6 = \"FROM df_flights SELECT SUM(air_time)\"\n",
    "\n",
    "flights_sum_airt = spark.sql(query_6)\n",
    "\n",
    "flights_sum_airt.show()"
   ]
  },
  {
   "cell_type": "code",
   "execution_count": 335,
   "metadata": {},
   "outputs": [
    {
     "name": "stdout",
     "output_type": "stream",
     "text": [
      "+-------+\n",
      "|carrier|\n",
      "+-------+\n",
      "|     UA|\n",
      "|     AA|\n",
      "|     B6|\n",
      "|     DL|\n",
      "|     OO|\n",
      "|     F9|\n",
      "|     US|\n",
      "|     HA|\n",
      "|     AS|\n",
      "|     VX|\n",
      "|     WN|\n",
      "+-------+\n",
      "\n"
     ]
    }
   ],
   "source": [
    "query_8 = \"FROM df_flights SELECT DISTINCT carrier\"\n",
    "\n",
    "carrier_unique = spark.sql(query_8)\n",
    "\n",
    "carrier_unique.show()"
   ]
  },
  {
   "cell_type": "code",
   "execution_count": 336,
   "metadata": {},
   "outputs": [
    {
     "name": "stdout",
     "output_type": "stream",
     "text": [
      "+-----------------------+\n",
      "|count(DISTINCT carrier)|\n",
      "+-----------------------+\n",
      "|                     11|\n",
      "+-----------------------+\n",
      "\n"
     ]
    }
   ],
   "source": [
    "query_8b = \"FROM df_flights SELECT COUNT(DISTINCT carrier)\"\n",
    "\n",
    "carrier_unique = spark.sql(query_8b)\n",
    "\n",
    "carrier_unique.show()"
   ]
  },
  {
   "cell_type": "code",
   "execution_count": 337,
   "metadata": {},
   "outputs": [
    {
     "name": "stdout",
     "output_type": "stream",
     "text": [
      "+-------+------------+\n",
      "|carrier|mean_airtime|\n",
      "+-------+------------+\n",
      "|     OO|        87.0|\n",
      "|     VX|       107.0|\n",
      "|     WN|       119.0|\n",
      "|     F9|       128.0|\n",
      "|     AS|       158.0|\n",
      "|     UA|       177.0|\n",
      "|     US|       184.0|\n",
      "|     DL|       185.0|\n",
      "|     B6|       197.0|\n",
      "|     AA|       205.0|\n",
      "|     HA|       334.0|\n",
      "+-------+------------+\n",
      "\n"
     ]
    }
   ],
   "source": [
    "# KPI Average airtime by carrier ordered by average airtime\n",
    "\n",
    "query_7 = \"FROM df_flights SELECT carrier, ROUND(AVG(air_time)) as mean_airtime GROUP BY carrier ORDER BY mean_airtime \"\n",
    "\n",
    "carrier_airtime = spark.sql(query_7)\n",
    "\n",
    "carrier_airtime.show()"
   ]
  },
  {
   "cell_type": "code",
   "execution_count": 338,
   "metadata": {},
   "outputs": [
    {
     "name": "stdout",
     "output_type": "stream",
     "text": [
      "+-------+---------------+\n",
      "|carrier|departure_delay|\n",
      "+-------+---------------+\n",
      "|     WN|           12.0|\n",
      "|     AA|           11.0|\n",
      "|     UA|           10.0|\n",
      "|     VX|            7.0|\n",
      "|     B6|            7.0|\n",
      "|     DL|            6.0|\n",
      "|     F9|            6.0|\n",
      "+-------+---------------+\n",
      "\n"
     ]
    }
   ],
   "source": [
    "# KPI delay by carrier \n",
    "query_9 = \"FROM df_flights SELECT carrier , ROUND(AVG(dep_delay)) as departure_delay GROUP By carrier Having departure_delay > 3 ORDER BY departure_delay DESC\" \n",
    "\n",
    "delay= spark.sql(query_9)\n",
    "\n",
    "delay.show()"
   ]
  },
  {
   "cell_type": "code",
   "execution_count": 339,
   "metadata": {},
   "outputs": [
    {
     "data": {
      "image/png": "[encoded data removed]",
      "text/plain": [
       "<Figure size 936x504 with 1 Axes>"
      ]
     },
     "metadata": {},
     "output_type": "display_data"
    }
   ],
   "source": [
    "delay_pd = delay.toPandas()\n",
    "\n",
    "delay_pd.plot.pie(y='departure_delay', legend=True, figsize=(13,7),\n",
    "                  labels=delay_pd['carrier'], autopct='%1.1f%%')\n",
    "plt.show()"
   ]
  },
  {
   "cell_type": "markdown",
   "metadata": {},
   "source": [
    "#### Table: planes"
   ]
  },
  {
   "cell_type": "code",
   "execution_count": 340,
   "metadata": {},
   "outputs": [
    {
     "name": "stdout",
     "output_type": "stream",
     "text": [
      "+-------+----+--------------------+----------------+--------+-------+-----+-----+---------+\n",
      "|tailnum|year|                type|    manufacturer|   model|engines|seats|speed|   engine|\n",
      "+-------+----+--------------------+----------------+--------+-------+-----+-----+---------+\n",
      "| N102UW|1998|Fixed wing multi ...|AIRBUS INDUSTRIE|A320-214|      2|  182|   NA|Turbo-fan|\n",
      "| N103US|1999|Fixed wing multi ...|AIRBUS INDUSTRIE|A320-214|      2|  182|   NA|Turbo-fan|\n",
      "| N104UW|1999|Fixed wing multi ...|AIRBUS INDUSTRIE|A320-214|      2|  182|   NA|Turbo-fan|\n",
      "| N105UW|1999|Fixed wing multi ...|AIRBUS INDUSTRIE|A320-214|      2|  182|   NA|Turbo-fan|\n",
      "| N107US|1999|Fixed wing multi ...|AIRBUS INDUSTRIE|A320-214|      2|  182|   NA|Turbo-fan|\n",
      "+-------+----+--------------------+----------------+--------+-------+-----+-----+---------+\n",
      "\n"
     ]
    }
   ],
   "source": [
    "query_10 = \"From planes_csv SELECT * LIMIT 5\"\n",
    "\n",
    "planes = spark.sql(query_10)\n",
    "\n",
    "planes.show()"
   ]
  },
  {
   "cell_type": "code",
   "execution_count": 341,
   "metadata": {},
   "outputs": [
    {
     "name": "stdout",
     "output_type": "stream",
     "text": [
      "+--------------------+\n",
      "|        manufacturer|\n",
      "+--------------------+\n",
      "|              AIRBUS|\n",
      "|    AIRBUS INDUSTRIE|\n",
      "|       BARKER JACK L|\n",
      "|                BELL|\n",
      "|              BOEING|\n",
      "|      BOMBARDIER INC|\n",
      "|            CANADAIR|\n",
      "|              CESSNA|\n",
      "|  CIRRUS DESIGN CORP|\n",
      "|             EMBRAER|\n",
      "|GULFSTREAM AEROSPACE|\n",
      "|        KILDALL GARY|\n",
      "|     LAMBERT RICHARD|\n",
      "|          MARZ BARRY|\n",
      "|   MCDONNELL DOUGLAS|\n",
      "|MCDONNELL DOUGLAS...|\n",
      "|               PIPER|\n",
      "|ROBINSON HELICOPT...|\n",
      "|            SIKORSKY|\n",
      "+--------------------+\n",
      "\n"
     ]
    }
   ],
   "source": [
    "query_10 = \"FROM planes_csv SELECT DISTINCT manufacturer ORDER BY manufacturer\"\n",
    "\n",
    "manufact = spark.sql(query_10)\n",
    "\n",
    "manufact.show()"
   ]
  },
  {
   "cell_type": "code",
   "execution_count": 342,
   "metadata": {},
   "outputs": [
    {
     "name": "stdout",
     "output_type": "stream",
     "text": [
      "+--------------------+------+\n",
      "|        manufacturer|planes|\n",
      "+--------------------+------+\n",
      "|              BOEING|  1460|\n",
      "|    AIRBUS INDUSTRIE|   401|\n",
      "|              AIRBUS|   397|\n",
      "|      BOMBARDIER INC|   214|\n",
      "|   MCDONNELL DOUGLAS|    94|\n",
      "|             EMBRAER|    37|\n",
      "|            CANADAIR|     8|\n",
      "|              CESSNA|     4|\n",
      "|               PIPER|     2|\n",
      "|MCDONNELL DOUGLAS...|     2|\n",
      "+--------------------+------+\n",
      "\n"
     ]
    }
   ],
   "source": [
    "# I am interested in the to 10 manufacturer\n",
    "\n",
    "query_11 = \"FROM planes_csv SELECT manufacturer, \\\n",
    "            COUNT(manufacturer)as planes GROUP BY manufacturer \\\n",
    "            ORDER BY  planes DESC LIMIT 10\"\n",
    "\n",
    "manufacturer_top = spark.sql(query_11)\n",
    "\n",
    "manufacturer_top.show()"
   ]
  },
  {
   "cell_type": "code",
   "execution_count": 343,
   "metadata": {},
   "outputs": [
    {
     "name": "stdout",
     "output_type": "stream",
     "text": [
      "+--------+\n",
      "|   model|\n",
      "+--------+\n",
      "|A321-231|\n",
      "|A320-211|\n",
      "|A320-232|\n",
      "|A319-112|\n",
      "|A330-223|\n",
      "|A320-214|\n",
      "|A319-115|\n",
      "|A320-231|\n",
      "|A319-114|\n",
      "|A319-111|\n",
      "|A320-212|\n",
      "|A319-131|\n",
      "|A321-211|\n",
      "|A319-132|\n",
      "|A330-323|\n",
      "|A330-243|\n",
      "+--------+\n",
      "\n"
     ]
    }
   ],
   "source": [
    "# I am interested in the models produced by Airbus\n",
    "\n",
    "query_11 = \"FROM planes_csv SELECT DISTINCT model \\\n",
    "            WHERE manufacturer LIKE 'AIRBUS%'\"\n",
    "\n",
    "models = spark.sql(query_11)\n",
    "\n",
    "models.show()"
   ]
  },
  {
   "cell_type": "code",
   "execution_count": 344,
   "metadata": {},
   "outputs": [
    {
     "name": "stdout",
     "output_type": "stream",
     "text": [
      "+--------------------+\n",
      "|                type|\n",
      "+--------------------+\n",
      "|          Rotorcraft|\n",
      "|Fixed wing multi ...|\n",
      "|Fixed wing single...|\n",
      "+--------------------+\n",
      "\n"
     ]
    }
   ],
   "source": [
    "# What are the types of planes?\n",
    "\n",
    "query_13 = \"FROM planes_csv SELECT DISTINCT(type)\"\n",
    "\n",
    "models = spark.sql(query_13)\n",
    "\n",
    "models.show()"
   ]
  },
  {
   "cell_type": "code",
   "execution_count": 345,
   "metadata": {},
   "outputs": [
    {
     "name": "stdout",
     "output_type": "stream",
     "text": [
      "+----+----------+\n",
      "|year|plane_type|\n",
      "+----+----------+\n",
      "|   0|         1|\n",
      "|1959|         1|\n",
      "|1963|         1|\n",
      "|1968|         1|\n",
      "|1975|         2|\n",
      "|1976|         1|\n",
      "|1980|         1|\n",
      "|1984|         1|\n",
      "|1985|         3|\n",
      "|1986|         1|\n",
      "|1987|         1|\n",
      "|1988|         1|\n",
      "|1989|         1|\n",
      "|1990|         1|\n",
      "|1991|         1|\n",
      "|1992|         1|\n",
      "|1993|         2|\n",
      "|1994|         1|\n",
      "|1995|         1|\n",
      "|1996|         1|\n",
      "+----+----------+\n",
      "only showing top 20 rows\n",
      "\n"
     ]
    }
   ],
   "source": [
    "# How many types were used in which year\n",
    "\n",
    "query_13 = \"FROM planes_csv SELECT year, \\\n",
    "            COUNT(DISTINCT type) as plane_type \\\n",
    "            GROUP BY year ORDER BY year\"\n",
    "\n",
    "type = spark.sql(query_13)\n",
    "\n",
    "type.show()"
   ]
  },
  {
   "cell_type": "markdown",
   "metadata": {},
   "source": [
    "#### Null & NA-values"
   ]
  },
  {
   "cell_type": "code",
   "execution_count": 346,
   "metadata": {},
   "outputs": [
    {
     "name": "stdout",
     "output_type": "stream",
     "text": [
      "+-----+\n",
      "|speed|\n",
      "+-----+\n",
      "|   NA|\n",
      "|   NA|\n",
      "|   NA|\n",
      "|   NA|\n",
      "|   NA|\n",
      "|   NA|\n",
      "|   NA|\n",
      "|   NA|\n",
      "|   NA|\n",
      "|   NA|\n",
      "+-----+\n",
      "\n"
     ]
    }
   ],
   "source": [
    "query_144 = \"From planes_csv SELECT speed LIMIT 10\"\n",
    "\n",
    "planes = spark.sql(query_144)\n",
    "\n",
    "planes.show()"
   ]
  },
  {
   "cell_type": "code",
   "execution_count": 347,
   "metadata": {},
   "outputs": [
    {
     "name": "stdout",
     "output_type": "stream",
     "text": [
      "+-----+\n",
      "|speed|\n",
      "+-----+\n",
      "+-----+\n",
      "\n"
     ]
    }
   ],
   "source": [
    "query_145 = \"From planes_csv SELECT speed WHERE speed IS NULL LIMIT 10\"\n",
    "\n",
    "planes = spark.sql(query_145)\n",
    "\n",
    "planes.show()"
   ]
  },
  {
   "cell_type": "code",
   "execution_count": 348,
   "metadata": {},
   "outputs": [
    {
     "name": "stdout",
     "output_type": "stream",
     "text": [
      "+-----+\n",
      "|speed|\n",
      "+-----+\n",
      "+-----+\n",
      "\n"
     ]
    }
   ],
   "source": [
    "query_145 = \"From planes_csv SELECT speed WHERE speed IS NULL LIMIT 10\"\n",
    "\n",
    "planes = spark.sql(query_145)\n",
    "\n",
    "planes.show()"
   ]
  },
  {
   "cell_type": "code",
   "execution_count": 349,
   "metadata": {},
   "outputs": [
    {
     "name": "stdout",
     "output_type": "stream",
     "text": [
      "+-----+\n",
      "|speed|\n",
      "+-----+\n",
      "|   90|\n",
      "|   90|\n",
      "|  107|\n",
      "|  112|\n",
      "|  126|\n",
      "+-----+\n",
      "\n"
     ]
    }
   ],
   "source": [
    "query_146 = \"From planes_csv SELECT speed WHERE speed NOT LIKE 'NA' LIMIT 5\"\n",
    "\n",
    "planes = spark.sql(query_146)\n",
    "\n",
    "planes.show()\n",
    "\n",
    "# Only five values are not NA"
   ]
  },
  {
   "cell_type": "markdown",
   "metadata": {},
   "source": [
    "### Read in csc files with read.csv as data frames"
   ]
  },
  {
   "cell_type": "code",
   "execution_count": 350,
   "metadata": {},
   "outputs": [
    {
     "name": "stdout",
     "output_type": "stream",
     "text": [
      "StructType(List(StructField(tailnum,StringType,true),StructField(year,StringType,true),StructField(type,StringType,true),StructField(manufacturer,StringType,true),StructField(model,StringType,true),StructField(engines,IntegerType,true),StructField(seats,IntegerType,true),StructField(speed,StringType,true),StructField(engine,StringType,true)))\n",
      "True\n",
      "\n"
     ]
    }
   ],
   "source": [
    "planes2 = spark.read.csv(\"planes.csv\", inferSchema=True, header=True)\n",
    "print(planes2.schema)\n",
    "print(isinstance(planes2, DataFrame ))\n",
    "\n",
    "print(\"\") \n",
    "\n",
    "flights2 = \\\n",
    "spark.read.csv(\"flights_small.csv\", inferSchema=True, header=True)\n",
    "\n",
    "airports2 = spark.read.csv(\"airports.csv\", inferSchema=True, header=True)\n"
   ]
  },
  {
   "cell_type": "markdown",
   "metadata": {},
   "source": [
    "### Investigating the data frames"
   ]
  },
  {
   "cell_type": "code",
   "execution_count": 351,
   "metadata": {},
   "outputs": [
    {
     "name": "stdout",
     "output_type": "stream",
     "text": [
      "['year', 'month', 'day', 'dep_time', 'dep_delay', 'arr_time', 'arr_delay', 'carrier', 'tailnum', 'flight', 'origin', 'dest', 'air_time', 'distance', 'hour', 'minute']\n",
      "\n",
      "root\n",
      " |-- year: integer (nullable = true)\n",
      " |-- month: integer (nullable = true)\n",
      " |-- day: integer (nullable = true)\n",
      " |-- dep_time: integer (nullable = true)\n",
      " |-- dep_delay: integer (nullable = true)\n",
      " |-- arr_time: integer (nullable = true)\n",
      " |-- arr_delay: integer (nullable = true)\n",
      " |-- carrier: string (nullable = true)\n",
      " |-- tailnum: string (nullable = true)\n",
      " |-- flight: integer (nullable = true)\n",
      " |-- origin: string (nullable = true)\n",
      " |-- dest: string (nullable = true)\n",
      " |-- air_time: integer (nullable = true)\n",
      " |-- distance: integer (nullable = true)\n",
      " |-- hour: integer (nullable = true)\n",
      " |-- minute: integer (nullable = true)\n",
      "\n",
      "None\n",
      "True\n",
      "\n"
     ]
    }
   ],
   "source": [
    "# schema displays the column types\n",
    "# it has shown that a lot of numeric variables were stored as strings\n",
    "# this needed to be corrected\n",
    "\n",
    "print(flights2.columns)\n",
    "print(\"\")\n",
    "\n",
    "# convert air_time from string to integer\n",
    "# with column creates a new column air_time of type integer\n",
    "flights2 = \\\n",
    "flights2.withColumn(\"air_time\", flights2[\"air_time\"].cast(IntegerType()))\n",
    "\n",
    "# converting multiple columns with a for loop\n",
    "\n",
    "flights_cols = \\\n",
    "['dep_time', 'dep_delay', 'arr_time', 'arr_delay',  'hour', 'minute']\n",
    "\n",
    "\n",
    "for i in flights_cols:\n",
    "    flights2 = flights2.withColumn(i, flights2[i].cast(IntegerType()))\n",
    "    \n",
    "\n",
    "\n",
    "# printSchema displays the column types neatly\n",
    "print(flights2.printSchema())\n",
    "print(isinstance(flights2, DataFrame ))\n",
    "\n",
    "print(\"\")\n",
    "\n"
   ]
  },
  {
   "cell_type": "code",
   "execution_count": 352,
   "metadata": {},
   "outputs": [
    {
     "name": "stdout",
     "output_type": "stream",
     "text": [
      "StructType(List(StructField(tailnum,StringType,true),StructField(year,StringType,true),StructField(type,StringType,true),StructField(manufacturer,StringType,true),StructField(model,StringType,true),StructField(engines,IntegerType,true),StructField(seats,IntegerType,true),StructField(speed,StringType,true),StructField(engine,StringType,true)))\n",
      "True\n",
      "\n",
      "root\n",
      " |-- faa: string (nullable = true)\n",
      " |-- name: string (nullable = true)\n",
      " |-- lat: double (nullable = true)\n",
      " |-- lon: double (nullable = true)\n",
      " |-- alt: integer (nullable = true)\n",
      " |-- tz: integer (nullable = true)\n",
      " |-- dst: string (nullable = true)\n",
      "\n",
      "None\n",
      "True\n"
     ]
    }
   ],
   "source": [
    "print(planes2.schema)\n",
    "print(isinstance(planes2, DataFrame ))\n",
    "\n",
    "print(\"\") \n",
    "\n",
    "print(airports2.printSchema())\n",
    "print(isinstance(airports2, DataFrame ))"
   ]
  },
  {
   "cell_type": "code",
   "execution_count": 353,
   "metadata": {},
   "outputs": [
    {
     "name": "stdout",
     "output_type": "stream",
     "text": [
      "+-------+----+--------------------+----------------+--------+-------+-----+-----+---------+\n",
      "|tailnum|year|                type|    manufacturer|   model|engines|seats|speed|   engine|\n",
      "+-------+----+--------------------+----------------+--------+-------+-----+-----+---------+\n",
      "| N102UW|1998|Fixed wing multi ...|AIRBUS INDUSTRIE|A320-214|      2|  182|   NA|Turbo-fan|\n",
      "| N103US|1999|Fixed wing multi ...|AIRBUS INDUSTRIE|A320-214|      2|  182|   NA|Turbo-fan|\n",
      "| N104UW|1999|Fixed wing multi ...|AIRBUS INDUSTRIE|A320-214|      2|  182|   NA|Turbo-fan|\n",
      "+-------+----+--------------------+----------------+--------+-------+-----+-----+---------+\n",
      "only showing top 3 rows\n",
      "\n",
      "None\n",
      "\n",
      "+----+-----+---+--------+---------+--------+---------+-------+-------+------+------+----+--------+--------+----+------+\n",
      "|year|month|day|dep_time|dep_delay|arr_time|arr_delay|carrier|tailnum|flight|origin|dest|air_time|distance|hour|minute|\n",
      "+----+-----+---+--------+---------+--------+---------+-------+-------+------+------+----+--------+--------+----+------+\n",
      "|2014|   12|  8|     658|       -7|     935|       -5|     VX| N846VA|  1780|   SEA| LAX|     132|     954|   6|    58|\n",
      "|2014|    1| 22|    1040|        5|    1505|        5|     AS| N559AS|   851|   SEA| HNL|     360|    2677|  10|    40|\n",
      "|2014|    3|  9|    1443|       -2|    1652|        2|     VX| N847VA|   755|   SEA| SFO|     111|     679|  14|    43|\n",
      "+----+-----+---+--------+---------+--------+---------+-------+-------+------+------+----+--------+--------+----+------+\n",
      "only showing top 3 rows\n",
      "\n",
      "None\n",
      "\n",
      "+---+--------------------+----------+-----------+----+---+---+\n",
      "|faa|                name|       lat|        lon| alt| tz|dst|\n",
      "+---+--------------------+----------+-----------+----+---+---+\n",
      "|04G|   Lansdowne Airport|41.1304722|-80.6195833|1044| -5|  A|\n",
      "|06A|Moton Field Munic...|32.4605722|-85.6800278| 264| -5|  A|\n",
      "|06C| Schaumburg Regional|41.9893408|-88.1012428| 801| -6|  A|\n",
      "+---+--------------------+----------+-----------+----+---+---+\n",
      "only showing top 3 rows\n",
      "\n",
      "None\n"
     ]
    }
   ],
   "source": [
    "# show displays the df\n",
    "\n",
    "print(planes2.show(n=3))\n",
    "print(\"\")\n",
    "\n",
    "print(flights2.show(n=3))\n",
    "print(\"\")\n",
    "\n",
    "print(airports2.show(n=3))"
   ]
  },
  {
   "cell_type": "markdown",
   "metadata": {},
   "source": [
    "### Applying pyspark operations to Spark data frames\n",
    "\n",
    "using methods like count, describe, filter. Spark methods and SQL-queries\n",
    "can be applied in parallel. Spark method follow the pattern dataframe.object (like dataframe.column) as it is pandas for example."
   ]
  },
  {
   "cell_type": "code",
   "execution_count": 354,
   "metadata": {},
   "outputs": [
    {
     "name": "stdout",
     "output_type": "stream",
     "text": [
      "+----+-----+---+--------+---------+--------+\n",
      "|year|month|day|dep_time|dep_delay|arr_time|\n",
      "+----+-----+---+--------+---------+--------+\n",
      "|2014|    1| 22|    1040|        5|    1505|\n",
      "|2014|   11| 19|    1812|       -3|    2352|\n",
      "+----+-----+---+--------+---------+--------+\n",
      "only showing top 2 rows\n",
      "\n",
      "None\n",
      "\n",
      "+----+-----+---+--------+---------+--------+\n",
      "|year|month|day|dep_time|dep_delay|arr_time|\n",
      "+----+-----+---+--------+---------+--------+\n",
      "|2014|    1| 22|    1040|        5|    1505|\n",
      "|2014|   11| 19|    1812|       -3|    2352|\n",
      "+----+-----+---+--------+---------+--------+\n",
      "only showing top 2 rows\n",
      "\n",
      "None\n"
     ]
    }
   ],
   "source": [
    "# A spark method like filter allows to put in an SQL-expression\n",
    "# or a spark boolean of True or False.\n",
    "# In Pyspark often different methods are possible.\n",
    "\n",
    "# SQL\n",
    "flights1500_sql = flights2.filter(\"distance >1500\").\\\n",
    "                  select('year', 'month', 'day', 'dep_time', \\\n",
    "                         'dep_delay', 'arr_time')\n",
    "\n",
    "# Spark boolean\n",
    "flights1500_spark = flights2.filter(flights2.distance > 1500).\\\n",
    "                    select('year', 'month', 'day', 'dep_time', \\\n",
    "                           'dep_delay', 'arr_time')\n",
    "\n",
    "print(flights1500_sql.show(2))\n",
    "print(\"\")\n",
    "print(flights1500_spark.show(2))"
   ]
  },
  {
   "cell_type": "code",
   "execution_count": 355,
   "metadata": {},
   "outputs": [
    {
     "name": "stdout",
     "output_type": "stream",
     "text": [
      "['tailnum', 'year', 'type', 'manufacturer', 'model', 'engines', 'seats', 'speed', 'engine']\n",
      "n-planes columns:  9\n",
      "\n",
      "['year', 'month', 'day', 'dep_time', 'dep_delay', 'arr_time', 'arr_delay', 'carrier', 'tailnum', 'flight', 'origin', 'dest', 'air_time', 'distance', 'hour', 'minute']\n",
      "n-flights columns:  16\n",
      "\n",
      "['faa', 'name', 'lat', 'lon', 'alt', 'tz', 'dst']\n",
      "n-airports columns:  7\n"
     ]
    }
   ],
   "source": [
    "# columns shows only the column names similar to pandas\n",
    "# number of columns with len as in core python\n",
    "\n",
    "print(planes2.columns)\n",
    "print(\"n-planes columns: \", len(planes2.columns))\n",
    "\n",
    "print(\"\")\n",
    "\n",
    "print(flights2.columns)\n",
    "print(\"n-flights columns: \", len(flights2.columns))\n",
    "\n",
    "print(\"\")\n",
    "\n",
    "print(airports2.columns)\n",
    "print(\"n-airports columns: \", len(airports2.columns))"
   ]
  },
  {
   "cell_type": "code",
   "execution_count": 356,
   "metadata": {},
   "outputs": [
    {
     "name": "stdout",
     "output_type": "stream",
     "text": [
      "rows planes:  2628\n",
      "rows flights: 10000\n",
      "rows airports: 1397\n"
     ]
    }
   ],
   "source": [
    "# number of observations\n",
    "\n",
    "print(\"rows planes: \", planes2.count())\n",
    "print(\"rows flights:\" , flights2.count())\n",
    "print(\"rows airports:\" , airports2.count())"
   ]
  },
  {
   "cell_type": "code",
   "execution_count": 357,
   "metadata": {},
   "outputs": [
    {
     "name": "stdout",
     "output_type": "stream",
     "text": [
      "+-------+------------------+------------------+\n",
      "|summary|             seats|           engines|\n",
      "+-------+------------------+------------------+\n",
      "|  count|              2628|              2628|\n",
      "|   mean|171.09703196347033|               2.0|\n",
      "| stddev| 67.80422639058219|0.0994847785584648|\n",
      "|    min|                 2|                 1|\n",
      "|    max|               450|                 4|\n",
      "+-------+------------------+------------------+\n",
      "\n",
      "None\n",
      "\n",
      "+-------+------------------+------------------+\n",
      "|summary|          air_time|         dep_delay|\n",
      "+-------+------------------+------------------+\n",
      "|  count|              9925|              9952|\n",
      "|   mean|152.88423173803525| 6.068629421221865|\n",
      "| stddev|  72.8656286392139|28.808608062751805|\n",
      "|    min|                20|               -19|\n",
      "|    max|               409|               886|\n",
      "+-------+------------------+------------------+\n",
      "\n",
      "None\n",
      "\n",
      "+-------+------------------+------------------+\n",
      "|summary|               alt|                tz|\n",
      "+-------+------------------+------------------+\n",
      "|  count|              1397|              1397|\n",
      "|   mean|1005.9169649248389|-6.420901932712956|\n",
      "| stddev|1521.2701426664623|1.8244027290430729|\n",
      "|    min|               -54|               -11|\n",
      "|    max|              9078|                 8|\n",
      "+-------+------------------+------------------+\n",
      "\n",
      "None\n"
     ]
    }
   ],
   "source": [
    "# using describe like in pandas to determine statistics of a variable\n",
    "\n",
    "print(planes2.describe('seats', 'engines').show())\n",
    "print(\"\")\n",
    "\n",
    "print(flights2.describe('air_time', 'dep_delay').show())\n",
    "print(\"\")\n",
    "\n",
    "print(airports2.describe('alt', 'tz').show())"
   ]
  },
  {
   "cell_type": "markdown",
   "metadata": {},
   "source": [
    "#### Select"
   ]
  },
  {
   "cell_type": "code",
   "execution_count": 358,
   "metadata": {},
   "outputs": [
    {
     "name": "stdout",
     "output_type": "stream",
     "text": [
      "+-------+------+----+\n",
      "|tailnum|origin|dest|\n",
      "+-------+------+----+\n",
      "| N846VA|   SEA| LAX|\n",
      "| N559AS|   SEA| HNL|\n",
      "+-------+------+----+\n",
      "only showing top 2 rows\n",
      "\n",
      "None\n",
      "+------+----+-------+\n",
      "|origin|dest|carrier|\n",
      "+------+----+-------+\n",
      "|   SEA| LAX|     VX|\n",
      "|   SEA| HNL|     AS|\n",
      "+------+----+-------+\n",
      "only showing top 2 rows\n",
      "\n",
      "None\n"
     ]
    }
   ],
   "source": [
    "# sql method\n",
    "selected1_sql = flights2.select('tailnum', 'origin', 'dest')\n",
    "\n",
    "# spark method with df.column\n",
    "selected1_spark = \\\n",
    "flights2.select(flights2.origin, flights2.dest, flights2.carrier)\n",
    "\n",
    "print(selected1_sql.show(2))\n",
    "print(selected1_spark.show(2))"
   ]
  },
  {
   "cell_type": "code",
   "execution_count": 359,
   "metadata": {},
   "outputs": [
    {
     "name": "stdout",
     "output_type": "stream",
     "text": [
      "+----------------+--------------------+\n",
      "|    manufacturer|                type|\n",
      "+----------------+--------------------+\n",
      "|AIRBUS INDUSTRIE|Fixed wing multi ...|\n",
      "|AIRBUS INDUSTRIE|Fixed wing multi ...|\n",
      "|AIRBUS INDUSTRIE|Fixed wing multi ...|\n",
      "+----------------+--------------------+\n",
      "only showing top 3 rows\n",
      "\n",
      "None\n",
      "\n",
      "+-------+------+--------+\n",
      "|carrier|flight|distance|\n",
      "+-------+------+--------+\n",
      "|     VX|  1780|     954|\n",
      "|     AS|   851|    2677|\n",
      "|     VX|   755|     679|\n",
      "+-------+------+--------+\n",
      "only showing top 3 rows\n",
      "\n",
      "None\n",
      "\n",
      "+--------------------+---+\n",
      "|                name|dst|\n",
      "+--------------------+---+\n",
      "|   Lansdowne Airport|  A|\n",
      "|Moton Field Munic...|  A|\n",
      "| Schaumburg Regional|  A|\n",
      "+--------------------+---+\n",
      "only showing top 3 rows\n",
      "\n",
      "None\n"
     ]
    }
   ],
   "source": [
    "# selecting columns with select\n",
    "\n",
    "print(planes2.select('manufacturer', 'type').show(3))\n",
    "print(\"\")\n",
    "\n",
    "print(flights2.select('carrier', 'flight', 'distance').show(3))\n",
    "print(\"\")\n",
    "\n",
    "print(airports2.select('name', 'dst').show(3))"
   ]
  },
  {
   "cell_type": "markdown",
   "metadata": {},
   "source": [
    "#### Select with alias\n",
    "\n",
    "when creating a new column with an arithmetic operation for example."
   ]
  },
  {
   "cell_type": "code",
   "execution_count": 360,
   "metadata": {},
   "outputs": [
    {
     "name": "stdout",
     "output_type": "stream",
     "text": [
      "+------+----+-------+------------------+\n",
      "|origin|dest|tailnum|         avg_speed|\n",
      "+------+----+-------+------------------+\n",
      "|   SEA| LAX| N846VA| 433.6363636363636|\n",
      "|   SEA| HNL| N559AS| 446.1666666666667|\n",
      "|   SEA| SFO| N847VA|367.02702702702703|\n",
      "|   PDX| SJC| N360SW| 411.3253012048193|\n",
      "|   SEA| BUR| N612AS| 442.6771653543307|\n",
      "+------+----+-------+------------------+\n",
      "only showing top 5 rows\n",
      "\n",
      "None\n",
      "10000\n"
     ]
    }
   ],
   "source": [
    "# Method 1: Spark method\n",
    "# air_time per distance as column of the data frame flights_2\n",
    "avg_speed = (flights2.distance/(flights2.air_time/60)).alias(\"avg_speed\")\n",
    "\n",
    "# Select the correct columns\n",
    "speed1 = flights2.select(\"origin\", \"dest\", \"tailnum\", avg_speed)\n",
    "print(speed1.show(5))\n",
    "print(speed1.count())"
   ]
  },
  {
   "cell_type": "code",
   "execution_count": 361,
   "metadata": {},
   "outputs": [
    {
     "name": "stdout",
     "output_type": "stream",
     "text": [
      "<class 'pandas.core.frame.DataFrame'>\n",
      "RangeIndex: 10000 entries, 0 to 9999\n",
      "Data columns (total 4 columns):\n",
      "origin       10000 non-null object\n",
      "dest         10000 non-null object\n",
      "tailnum      10000 non-null object\n",
      "avg_speed    9925 non-null float64\n",
      "dtypes: float64(1), object(3)\n",
      "memory usage: 312.6+ KB\n"
     ]
    },
    {
     "data": {
      "image/png": "[encoded data removed]",
      "text/plain": [
       "<Figure size 432x288 with 1 Axes>"
      ]
     },
     "metadata": {
      "needs_background": "light"
     },
     "output_type": "display_data"
    }
   ],
   "source": [
    "# Average speed by origin\n",
    "pd_speed1 = speed1.toPandas()\n",
    "pd_speed1.info()\n",
    "pd_speed1.groupby('origin')['avg_speed'].mean().\\\n",
    "plot.bar(edgecolor=\"black\", linewidth=3, color=['olivedrab', 'skyblue'],\n",
    "         title=\"average speed by origin\")\n",
    "plt.show()"
   ]
  },
  {
   "cell_type": "code",
   "execution_count": 362,
   "metadata": {},
   "outputs": [
    {
     "name": "stdout",
     "output_type": "stream",
     "text": [
      "+------+----+-------+------------------+\n",
      "|origin|dest|tailnum|         avg_speed|\n",
      "+------+----+-------+------------------+\n",
      "|   SEA| LAX| N846VA| 433.6363636363636|\n",
      "|   SEA| HNL| N559AS| 446.1666666666667|\n",
      "|   SEA| SFO| N847VA|367.02702702702703|\n",
      "|   PDX| SJC| N360SW| 411.3253012048193|\n",
      "|   SEA| BUR| N612AS| 442.6771653543307|\n",
      "+------+----+-------+------------------+\n",
      "only showing top 5 rows\n",
      "\n",
      "None\n"
     ]
    }
   ],
   "source": [
    "# Method 2: SQL-expression\n",
    "speed2 = \\\n",
    "flights2.selectExpr(\"origin\", \"dest\", \"tailnum\", \"distance/(air_time/60) \\\n",
    "                    as avg_speed\")\n",
    "\n",
    "print(speed2.show(5))"
   ]
  },
  {
   "cell_type": "markdown",
   "metadata": {},
   "source": [
    "#### Filter"
   ]
  },
  {
   "cell_type": "code",
   "execution_count": 363,
   "metadata": {},
   "outputs": [
    {
     "name": "stdout",
     "output_type": "stream",
     "text": [
      "+------+----+-------+\n",
      "|origin|dest|carrier|\n",
      "+------+----+-------+\n",
      "|   SEA| PDX|     OO|\n",
      "|   SEA| PDX|     OO|\n",
      "|   SEA| PDX|     OO|\n",
      "|   SEA| PDX|     OO|\n",
      "|   SEA| PDX|     OO|\n",
      "|   SEA| PDX|     AS|\n",
      "|   SEA| PDX|     OO|\n",
      "|   SEA| PDX|     OO|\n",
      "|   SEA| PDX|     OO|\n",
      "|   SEA| PDX|     OO|\n",
      "+------+----+-------+\n",
      "only showing top 10 rows\n",
      "\n"
     ]
    }
   ],
   "source": [
    "# filters can be chained\n",
    "# this way different filters are applied in one query\n",
    "\n",
    "# Define first filter\n",
    "filter1 = flights2.origin == \"SEA\"\n",
    "\n",
    "# Define second filter\n",
    "filter2 = flights2.dest == \"PDX\"\n",
    "\n",
    "# Filter the data, first by filterA then by filterB\n",
    "filters_chained = selected1_spark.filter(filter1).filter(filter2)\n",
    "\n",
    "filters_chained.show(10)"
   ]
  },
  {
   "cell_type": "code",
   "execution_count": 364,
   "metadata": {},
   "outputs": [
    {
     "name": "stdout",
     "output_type": "stream",
     "text": [
      "+--------------+--------------------+-------+\n",
      "|  manufacturer|                type|engines|\n",
      "+--------------+--------------------+-------+\n",
      "|BOMBARDIER INC|Fixed wing multi ...|      2|\n",
      "|BOMBARDIER INC|Fixed wing multi ...|      2|\n",
      "|BOMBARDIER INC|Fixed wing multi ...|      2|\n",
      "|BOMBARDIER INC|Fixed wing multi ...|      2|\n",
      "|BOMBARDIER INC|Fixed wing multi ...|      2|\n",
      "+--------------+--------------------+-------+\n",
      "only showing top 5 rows\n",
      "\n",
      "None\n",
      "\n",
      "+-------+------+\n",
      "|carrier|flight|\n",
      "+-------+------+\n",
      "|     VX|    84|\n",
      "|     VX|    84|\n",
      "|     VX|    84|\n",
      "|     VX|    84|\n",
      "|     VX|    84|\n",
      "+-------+------+\n",
      "only showing top 5 rows\n",
      "\n",
      "None\n",
      "\n",
      "+-----------------+---+---+\n",
      "|             name|dst|faa|\n",
      "+-----------------+---+---+\n",
      "|Lansdowne Airport|  A|04G|\n",
      "+-----------------+---+---+\n",
      "\n",
      "None\n"
     ]
    }
   ],
   "source": [
    "# filter observations based on a condition\n",
    "# orderBy orders in ascending order\n",
    "\n",
    "print(planes2.filter(planes2.manufacturer=='BOMBARDIER INC').\\\n",
    "      select('manufacturer', 'type', 'engines').orderBy('engines').show(5))\n",
    "print(\"\")\n",
    "\n",
    "print(flights2.filter(flights2.carrier==\"VX\").\\\n",
    "      select('carrier', 'flight').orderBy('flight').show(5))\n",
    "print(\"\")\n",
    "\n",
    "print(airports2.filter(airports2.name==\"Lansdowne Airport\").\\\n",
    "      select('name', 'dst', 'faa').show(3))"
   ]
  },
  {
   "cell_type": "code",
   "execution_count": 365,
   "metadata": {},
   "outputs": [
    {
     "name": "stdout",
     "output_type": "stream",
     "text": [
      "214\n",
      "186\n",
      "1\n"
     ]
    }
   ],
   "source": [
    "# print number of observations of the filtered df\n",
    "\n",
    "pf = planes2.filter(planes2.manufacturer=='BOMBARDIER INC').\\\n",
    "                    select('manufacturer', 'type', 'engines')\n",
    "print(pf.count())\n",
    "\n",
    "ff = flights2.filter(flights2.carrier==\"VX\").select('carrier', 'flight')\n",
    "print(ff.count())\n",
    "\n",
    "af = airports2.filter(airports2.name==\"Lansdowne Airport\").\\\n",
    "     select('name', 'dst', 'faa')\n",
    "print(af.count())"
   ]
  },
  {
   "cell_type": "code",
   "execution_count": 366,
   "metadata": {},
   "outputs": [
    {
     "name": "stdout",
     "output_type": "stream",
     "text": [
      "+-------+----+--------------------+--------------+-----------+-------+-----+-----+---------+\n",
      "|tailnum|year|                type|  manufacturer|      model|engines|seats|speed|   engine|\n",
      "+-------+----+--------------------+--------------+-----------+-------+-----+-----+---------+\n",
      "| N161PQ|2008|Fixed wing multi ...|BOMBARDIER INC|CL-600-2D24|      2|   95|   NA|Turbo-fan|\n",
      "| N162PQ|2008|Fixed wing multi ...|BOMBARDIER INC|CL-600-2D24|      2|   95|   NA|Turbo-fan|\n",
      "| N170PQ|2008|Fixed wing multi ...|BOMBARDIER INC|CL-600-2D24|      2|   95|   NA|Turbo-fan|\n",
      "+-------+----+--------------------+--------------+-----------+-------+-----+-----+---------+\n",
      "only showing top 3 rows\n",
      "\n",
      "214\n",
      "9\n"
     ]
    }
   ],
   "source": [
    "# combining filters\n",
    "\n",
    "pf2 = planes2.filter((planes2.manufacturer=='BOMBARDIER INC') & (planes2.engine=='Turbo-fan'))\n",
    "pf2.show(3)\n",
    "print(pf2.count())\n",
    "print(len(pf2.columns))"
   ]
  },
  {
   "cell_type": "code",
   "execution_count": 367,
   "metadata": {},
   "outputs": [
    {
     "name": "stdout",
     "output_type": "stream",
     "text": [
      "+----+-----+---+--------+---------+--------+---------+-------+-------+------+------+----+--------+--------+----+------+\n",
      "|year|month|day|dep_time|dep_delay|arr_time|arr_delay|carrier|tailnum|flight|origin|dest|air_time|distance|hour|minute|\n",
      "+----+-----+---+--------+---------+--------+---------+-------+-------+------+------+----+--------+--------+----+------+\n",
      "+----+-----+---+--------+---------+--------+---------+-------+-------+------+------+----+--------+--------+----+------+\n",
      "\n",
      "0\n",
      "16\n"
     ]
    }
   ],
   "source": [
    "ff2 = flights2.filter((flights2.carrier==\"VX\")&(flights2.dest==\"HNL\"))\n",
    "ff2.show()\n",
    "print(ff2.count())\n",
    "print(len(ff2.columns))\n",
    "# The carrier vl seems not to fly to HNL"
   ]
  },
  {
   "cell_type": "code",
   "execution_count": 368,
   "metadata": {},
   "outputs": [
    {
     "name": "stdout",
     "output_type": "stream",
     "text": [
      "+---+-----------------+----------+-----------+----+---+---+\n",
      "|faa|             name|       lat|        lon| alt| tz|dst|\n",
      "+---+-----------------+----------+-----------+----+---+---+\n",
      "|04G|Lansdowne Airport|41.1304722|-80.6195833|1044| -5|  A|\n",
      "+---+-----------------+----------+-----------+----+---+---+\n",
      "\n",
      "1\n",
      "3\n"
     ]
    }
   ],
   "source": [
    "af2 = airports2.filter((airports2.name==\"Lansdowne Airport\")&(airports2.dst=='A'))\n",
    "af2.show()\n",
    "print(af2.count())\n",
    "print(len(af2.select('name', 'dst', 'faa').columns))\n",
    "# Only one Lansdowne Airport with dst A"
   ]
  },
  {
   "cell_type": "markdown",
   "metadata": {},
   "source": [
    "### Transform Pyspark data frames into SQL-tables\n",
    "\n",
    "and applying SQL queries."
   ]
  },
  {
   "cell_type": "code",
   "execution_count": 369,
   "metadata": {},
   "outputs": [
    {
     "name": "stdout",
     "output_type": "stream",
     "text": [
      "+----------------+--------------------+-------+-------+----+\n",
      "|    manufacturer|                type|engines|tailnum|year|\n",
      "+----------------+--------------------+-------+-------+----+\n",
      "|AIRBUS INDUSTRIE|Fixed wing multi ...|      2| N102UW|1998|\n",
      "|AIRBUS INDUSTRIE|Fixed wing multi ...|      2| N103US|1999|\n",
      "|AIRBUS INDUSTRIE|Fixed wing multi ...|      2| N104UW|1999|\n",
      "|AIRBUS INDUSTRIE|Fixed wing multi ...|      2| N105UW|1999|\n",
      "|AIRBUS INDUSTRIE|Fixed wing multi ...|      2| N107US|1999|\n",
      "+----------------+--------------------+-------+-------+----+\n",
      "\n"
     ]
    }
   ],
   "source": [
    "# registerTempTable is deprecated since 2.0.0\n",
    "planes2.createOrReplaceTempView('planes2tbl')\n",
    "sqlContext.sql(\"select manufacturer, type, engines, tailnum, year from planes2tbl LIMIT 5\").show()"
   ]
  },
  {
   "cell_type": "code",
   "execution_count": 370,
   "metadata": {},
   "outputs": [
    {
     "name": "stdout",
     "output_type": "stream",
     "text": [
      "+----+-------------------+-----------+\n",
      "|year|count(manufacturer)|count(type)|\n",
      "+----+-------------------+-----------+\n",
      "|1998|                159|        159|\n",
      "|1999|                167|        167|\n",
      "|2000|                189|        189|\n",
      "|1995|                 54|         54|\n",
      "|1987|                 23|         23|\n",
      "+----+-------------------+-----------+\n",
      "\n"
     ]
    }
   ],
   "source": [
    "sqlContext.sql(\"select year, count(manufacturer) , count(type) \\\n",
    "                           from planes2tbl group by year LIMIT 5\").show()"
   ]
  },
  {
   "cell_type": "code",
   "execution_count": 371,
   "metadata": {},
   "outputs": [
    {
     "name": "stdout",
     "output_type": "stream",
     "text": [
      "+------+--------+------+----+--------+\n",
      "|flight|arr_time|origin|dest|air_time|\n",
      "+------+--------+------+----+--------+\n",
      "|  1780|     935|   SEA| LAX|     132|\n",
      "|   851|    1505|   SEA| HNL|     360|\n",
      "|   755|    1652|   SEA| SFO|     111|\n",
      "|   344|    1839|   PDX| SJC|      83|\n",
      "|   522|    1015|   SEA| BUR|     127|\n",
      "|    48|    1352|   PDX| DEN|     121|\n",
      "|  1520|    1041|   PDX| OAK|      90|\n",
      "|   755|    1842|   SEA| SFO|      98|\n",
      "|   490|    1508|   SEA| SAN|     135|\n",
      "|    26|    2352|   SEA| ORD|     198|\n",
      "+------+--------+------+----+--------+\n",
      "\n",
      "10\n",
      "5\n"
     ]
    }
   ],
   "source": [
    "flights2.createOrReplaceTempView('flights2_tbl')\n",
    "f2_arrt = sqlContext.sql(\"select flight, arr_time, origin, dest, air_time \\\n",
    "                         from flights2_tbl where arr_time > 500 limit 10\" )\n",
    "\n",
    "f2_arrt.show()\n",
    "print(f2_arrt.count())\n",
    "print(len(f2_arrt.columns))"
   ]
  },
  {
   "cell_type": "code",
   "execution_count": 372,
   "metadata": {},
   "outputs": [
    {
     "name": "stdout",
     "output_type": "stream",
     "text": [
      "+----+--------+------------+\n",
      "|dest|mean_arr|mean_airtime|\n",
      "+----+--------+------------+\n",
      "| KOA|  1519.9|      349.52|\n",
      "| LIH| 1465.81|      346.62|\n",
      "| HNL| 1523.23|       338.0|\n",
      "| OGG| 1558.79|       337.9|\n",
      "| FLL| 1720.69|      317.17|\n",
      "| MIA|  691.32|      308.37|\n",
      "| MCO|  1574.1|      298.65|\n",
      "| TPA| 1681.91|      293.64|\n",
      "| BOS| 1365.86|      288.03|\n",
      "| JFK| 1362.55|       282.8|\n",
      "| PHL| 1495.84|      279.63|\n",
      "| EWR| 1275.48|      278.28|\n",
      "| BWI| 1805.15|      270.79|\n",
      "| DCA| 1797.06|      269.06|\n",
      "| IAD| 1483.71|      264.66|\n",
      "+----+--------+------------+\n",
      "\n"
     ]
    },
    {
     "data": {
      "image/png": "[encoded data removed]",
      "text/plain": [
       "<Figure size 432x288 with 1 Axes>"
      ]
     },
     "metadata": {
      "needs_background": "light"
     },
     "output_type": "display_data"
    }
   ],
   "source": [
    "f2_gb = sqlContext.sql(\"select dest, round(avg(arr_time), 2) as mean_arr, \\\n",
    "                        round(avg(air_time), 2) as mean_airtime \\\n",
    "                        from flights2_tbl \\\n",
    "                        group by dest having mean_airtime > 50 \\\n",
    "                        order by mean_airtime desc limit 15\")\n",
    "f2_gb.show()\n",
    "f2_gb.count()\n",
    "\n",
    "pd_f2 = f2_gb.toPandas()\n",
    "pd_f2.plot.bar(x='dest', title=\"Mean arrival and airtime by destination\",\n",
    "               edgecolor='black', linewidth=3, color=['lightgreen', 'red'])\n",
    "plt.show()"
   ]
  },
  {
   "cell_type": "code",
   "execution_count": 373,
   "metadata": {},
   "outputs": [
    {
     "name": "stdout",
     "output_type": "stream",
     "text": [
      "+------+--------+------+----+--------+--------+\n",
      "|flight|arr_time|origin|dest|air_time|distance|\n",
      "+------+--------+------+----+--------+--------+\n",
      "|  4877|    1834|   PDX| SJC|      95|     569|\n",
      "|   404|    2133|   PDX| SJC|      82|     569|\n",
      "|  2649|    1911|   PDX| SJC|      82|     569|\n",
      "|   159|     843|   PDX| SJC|      77|     569|\n",
      "|   404|    2135|   PDX| SJC|      85|     569|\n",
      "|   406|     746|   PDX| SJC|      92|     569|\n",
      "|   484|    1922|   PDX| SJC|      92|     569|\n",
      "|  3129|    1219|   PDX| SJC|      89|     569|\n",
      "|  1071|    1755|   PDX| SJC|      84|     569|\n",
      "|  3252|    1415|   PDX| SJC|      87|     569|\n",
      "+------+--------+------+----+--------+--------+\n",
      "only showing top 10 rows\n",
      "\n"
     ]
    },
    {
     "data": {
      "text/plain": [
       "818"
      ]
     },
     "execution_count": 373,
     "metadata": {},
     "output_type": "execute_result"
    }
   ],
   "source": [
    "f2_between = \\\n",
    "sqlContext.sql(\"select flight, arr_time, origin, dest, air_time, distance \\\n",
    "                from flights2_tbl \\\n",
    "                where distance between 200 and 600 order by distance desc\")\n",
    "\n",
    "f2_between.show(10)\n",
    "f2_between.count()"
   ]
  },
  {
   "cell_type": "code",
   "execution_count": 374,
   "metadata": {},
   "outputs": [
    {
     "name": "stdout",
     "output_type": "stream",
     "text": [
      "+---+--------------------+----------+------------+----+---+---+\n",
      "|faa|                name|       lat|         lon| alt| tz|dst|\n",
      "+---+--------------------+----------+------------+----+---+---+\n",
      "|04G|   Lansdowne Airport|41.1304722| -80.6195833|1044| -5|  A|\n",
      "|06A|Moton Field Munic...|32.4605722| -85.6800278| 264| -5|  A|\n",
      "|06C| Schaumburg Regional|41.9893408| -88.1012428| 801| -6|  A|\n",
      "|06N|     Randall Airport| 41.431912| -74.3915611| 523| -5|  A|\n",
      "|09J|Jekyll Island Air...|31.0744722| -81.4277778|  11| -4|  A|\n",
      "|0A9|Elizabethton Muni...|36.3712222| -82.1734167|1593| -4|  A|\n",
      "|0G6|Williams County A...|41.4673056| -84.5067778| 730| -5|  A|\n",
      "|0G7|Finger Lakes Regi...|42.8835647| -76.7812318| 492| -5|  A|\n",
      "|0P2|Shoestring Aviati...|39.7948244| -76.6471914|1000| -5|  U|\n",
      "|0S9|Jefferson County ...|48.0538086|-122.8106436| 108| -8|  A|\n",
      "+---+--------------------+----------+------------+----+---+---+\n",
      "only showing top 10 rows\n",
      "\n"
     ]
    }
   ],
   "source": [
    "airports2.createOrReplaceTempView('airports2_tbl')\n",
    "sqlContext.sql(\"select * from airports2_tbl\").show(10)"
   ]
  },
  {
   "cell_type": "code",
   "execution_count": 375,
   "metadata": {},
   "outputs": [
    {
     "name": "stdout",
     "output_type": "stream",
     "text": [
      "+---------+---------+\n",
      "| min(lat)| max(lat)|\n",
      "+---------+---------+\n",
      "|19.721375|72.270833|\n",
      "+---------+---------+\n",
      "\n"
     ]
    }
   ],
   "source": [
    "sqlContext.sql(\"select min(lat), max(lat) from airports2_tbl \").show()"
   ]
  },
  {
   "cell_type": "code",
   "execution_count": 376,
   "metadata": {},
   "outputs": [
    {
     "name": "stdout",
     "output_type": "stream",
     "text": [
      "+---+---------------+---------+-----------+---+---+---+\n",
      "|faa|           name|      lat|        lon|alt| tz|dst|\n",
      "+---+---------------+---------+-----------+---+---+---+\n",
      "|06N|Randall Airport|41.431912|-74.3915611|523| -5|  A|\n",
      "+---+---------------+---------+-----------+---+---+---+\n",
      "\n"
     ]
    }
   ],
   "source": [
    "sqlContext.sql(\"select * from airports2_tbl where name in ('Randall Airport')\").show()"
   ]
  },
  {
   "cell_type": "markdown",
   "metadata": {},
   "source": [
    "## Exchange data between Pyspark and Pandas"
   ]
  },
  {
   "cell_type": "markdown",
   "metadata": {},
   "source": [
    "#### SQL-Table to pandas data frame"
   ]
  },
  {
   "cell_type": "code",
   "execution_count": 377,
   "metadata": {},
   "outputs": [
    {
     "name": "stdout",
     "output_type": "stream",
     "text": [
      "(818, 6)\n",
      "RangeIndex(start=0, stop=818, step=1)\n",
      "['flight', 'arr_time', 'origin', 'dest', 'air_time', 'distance']\n",
      "<class 'pandas.core.frame.DataFrame'>\n",
      "RangeIndex: 818 entries, 0 to 817\n",
      "Data columns (total 6 columns):\n",
      "flight      818 non-null int32\n",
      "arr_time    810 non-null float64\n",
      "origin      818 non-null object\n",
      "dest        818 non-null object\n",
      "air_time    808 non-null float64\n",
      "distance    818 non-null int32\n",
      "dtypes: float64(2), int32(2), object(2)\n",
      "memory usage: 32.1+ KB\n",
      "None\n",
      "   flight  arr_time origin dest  air_time  distance\n",
      "0     344    1839.0    PDX  SJC      83.0       569\n",
      "1     159     843.0    PDX  SJC      77.0       569\n",
      "2    2342    1338.0    PDX  SJC      77.0       569\n",
      "     flight  arr_time origin dest  air_time  distance\n",
      "815     684    1242.0    SEA  GEG      36.0       224\n",
      "816     684    1241.0    SEA  GEG      39.0       224\n",
      "817     698    2400.0    SEA  GEG      37.0       224\n",
      "            flight     arr_time    air_time    distance\n",
      "count   818.000000   810.000000  808.000000  818.000000\n",
      "mean   1652.332518  1498.769136   75.664604  495.581907\n",
      "std    1763.714192   524.083753   17.322587  114.265088\n",
      "min      32.000000     1.000000   32.000000  224.000000\n",
      "25%     400.000000  1127.500000   70.000000  479.000000\n",
      "50%     699.000000  1449.000000   81.000000  550.000000\n",
      "75%    2342.000000  1990.250000   86.000000  550.000000\n",
      "max    6471.000000  2400.000000  120.000000  569.000000\n",
      "flight       0\n",
      "arr_time     8\n",
      "origin       0\n",
      "dest         0\n",
      "air_time    10\n",
      "distance     0\n",
      "dtype: int64\n"
     ]
    }
   ],
   "source": [
    "# transforming a sql Table into a pandas data frame\n",
    "# then it can be used like any other df\n",
    "# this helps when the query produces a result that can be processed locally on one machine\n",
    "\n",
    "pandas_df_1 = f2_between.toPandas()\n",
    "\n",
    "print(pandas_df_1.shape)\n",
    "print(pandas_df_1.index)\n",
    "print(pandas_df_1.columns.to_list())\n",
    "print(pandas_df_1.info())\n",
    "print(pandas_df_1.head(3))\n",
    "print(pandas_df_1.tail(3))\n",
    "print(pandas_df_1.describe())\n",
    "print(pandas_df_1.isnull().sum())\n",
    "\n"
   ]
  },
  {
   "cell_type": "code",
   "execution_count": 378,
   "metadata": {},
   "outputs": [
    {
     "name": "stdout",
     "output_type": "stream",
     "text": [
      "float64\n",
      "float64\n",
      "1338\n"
     ]
    },
    {
     "data": {
      "image/png": "[encoded data removed]",
      "text/plain": [
       "<Figure size 1296x504 with 1 Axes>"
      ]
     },
     "metadata": {
      "needs_background": "light"
     },
     "output_type": "display_data"
    }
   ],
   "source": [
    "# plotting a variable arrival time\n",
    "# this was difficult as NA values were included as literal NA strings\n",
    "\n",
    "print(pandas_df_1[\"arr_time\"].dtypes)\n",
    "arr_time_pd = pandas_df_1[\"arr_time\"].dropna()\n",
    "print(arr_time_pd.dtype)\n",
    "\n",
    "# check one value\n",
    "print(int(arr_time_pd[2]))\n",
    "oo = int(arr_time_pd[2])\n",
    "float(oo)\n",
    "\n",
    "# with pd.option_context('display.max_rows', None, 'display.max_columns', None):  # more options can be specified also\n",
    "    # print(arr_time_pd)\n",
    "\n",
    "# exclude all rows with NA   \n",
    "# arr_time_pd_clean = arr_time_pd[arr_time_pd!='NA']\n",
    "\n",
    "# first convert to string then int\n",
    "# arr_time_pd_int = arr_time_pd_clean.astype(str).astype(int)\n",
    "\n",
    "# The above code is not longer relevant\n",
    "\n",
    "\n",
    "arr_time_pd.plot(figsize=(18, 7), color=\"orange\", title=\"Arrival time\")\n",
    "plt.show()\n",
    "\n"
   ]
  },
  {
   "cell_type": "markdown",
   "metadata": {},
   "source": [
    "#### Pandas data frame to a data frame in a Spark cluster"
   ]
  },
  {
   "cell_type": "code",
   "execution_count": 379,
   "metadata": {},
   "outputs": [
    {
     "name": "stdout",
     "output_type": "stream",
     "text": [
      "   Randomvar1  Randomvar2  Randomvar3\n",
      "0    0.906770    0.006951    0.013062\n",
      "1    0.840453    0.486592    0.286390\n",
      "2    0.115921    0.288939    0.656940\n",
      "3    0.734695    0.585788    0.584688\n",
      "4    0.109211    0.979261    0.156809\n"
     ]
    },
    {
     "data": {
      "image/png": "[encoded data removed]",
      "text/plain": [
       "<Figure size 720x360 with 1 Axes>"
      ]
     },
     "metadata": {
      "needs_background": "light"
     },
     "output_type": "display_data"
    }
   ],
   "source": [
    "# Creating a data frame based on random numbers\n",
    "random_dict = {\"Randomvar1\": np.random.random(100), \n",
    "               \"Randomvar2\": np.random.random(100), \n",
    "               \"Randomvar3\": np.random.random(100)}\n",
    "\n",
    "random_df = pd.DataFrame(random_dict)\n",
    "\n",
    "print(random_df.head())\n",
    "\n",
    "# make a plot just for fun\n",
    "random_df.plot.hist(figsize=(10,5), alpha=0.3, fontsize=15, \n",
    "                  title=\"Distributions of the random variable\",\n",
    "                  edgecolor='black', linewidth=3)\n",
    "plt.show()"
   ]
  },
  {
   "cell_type": "code",
   "execution_count": 380,
   "metadata": {},
   "outputs": [
    {
     "name": "stdout",
     "output_type": "stream",
     "text": [
      "[Row(Randomvar1=0.9067695998224712, Randomvar2=0.006951451797322594, Randomvar3=0.013062103483643006), Row(Randomvar1=0.8404530395671246, Randomvar2=0.4865922016407819, Randomvar3=0.2863902679521362)]\n",
      "\n",
      "[Table(name='airports2_tbl', database=None, description=None, tableType='TEMPORARY', isTemporary=True), Table(name='df_airports', database=None, description=None, tableType='TEMPORARY', isTemporary=True), Table(name='df_flights', database=None, description=None, tableType='TEMPORARY', isTemporary=True), Table(name='flights2_tbl', database=None, description=None, tableType='TEMPORARY', isTemporary=True), Table(name='planes2tbl', database=None, description=None, tableType='TEMPORARY', isTemporary=True), Table(name='planes_csv', database=None, description=None, tableType='TEMPORARY', isTemporary=True), Table(name='temp_df_198', database=None, description=None, tableType='TEMPORARY', isTemporary=True)]\n"
     ]
    }
   ],
   "source": [
    "# create df from pandas df\n",
    "spark_df = spark.createDataFrame(random_df)\n",
    "print(spark_df.head(2))\n",
    "# spark df methods work but the df is not part of the cluster\n",
    "# therefore method of the SQL-context for example does not work\n",
    "\n",
    "print(\"\")\n",
    "\n",
    "# This dataframe is only stored locally but not as a table in the spark catalog\n",
    "print(spark.catalog.listTables())"
   ]
  },
  {
   "cell_type": "code",
   "execution_count": 381,
   "metadata": {},
   "outputs": [
    {
     "name": "stdout",
     "output_type": "stream",
     "text": [
      "[Table(name='airports2_tbl', database=None, description=None, tableType='TEMPORARY', isTemporary=True), Table(name='df_airports', database=None, description=None, tableType='TEMPORARY', isTemporary=True), Table(name='df_flights', database=None, description=None, tableType='TEMPORARY', isTemporary=True), Table(name='flights2_tbl', database=None, description=None, tableType='TEMPORARY', isTemporary=True), Table(name='planes2tbl', database=None, description=None, tableType='TEMPORARY', isTemporary=True), Table(name='planes_csv', database=None, description=None, tableType='TEMPORARY', isTemporary=True), Table(name='temp_df_198', database=None, description=None, tableType='TEMPORARY', isTemporary=True)]\n"
     ]
    }
   ],
   "source": [
    "spark_df.createOrReplaceTempView(\"temp_df_198\")\n",
    "\n",
    "print(spark.catalog.listTables())\n",
    "\n",
    "# 'temp_df_198' is added to the catalog\n",
    "# sql methods can be applied"
   ]
  },
  {
   "cell_type": "markdown",
   "metadata": {},
   "source": [
    "### Statistics & aggregations (groupby)"
   ]
  },
  {
   "cell_type": "markdown",
   "metadata": {},
   "source": [
    "#### Flights"
   ]
  },
  {
   "cell_type": "code",
   "execution_count": 382,
   "metadata": {},
   "outputs": [
    {
     "name": "stdout",
     "output_type": "stream",
     "text": [
      "['year', 'month', 'day', 'dep_time', 'dep_delay', 'arr_time', 'arr_delay', 'carrier', 'tailnum', 'flight', 'origin', 'dest', 'air_time', 'distance', 'hour', 'minute']\n",
      "root\n",
      " |-- year: integer (nullable = true)\n",
      " |-- month: integer (nullable = true)\n",
      " |-- day: integer (nullable = true)\n",
      " |-- dep_time: integer (nullable = true)\n",
      " |-- dep_delay: integer (nullable = true)\n",
      " |-- arr_time: integer (nullable = true)\n",
      " |-- arr_delay: integer (nullable = true)\n",
      " |-- carrier: string (nullable = true)\n",
      " |-- tailnum: string (nullable = true)\n",
      " |-- flight: integer (nullable = true)\n",
      " |-- origin: string (nullable = true)\n",
      " |-- dest: string (nullable = true)\n",
      " |-- air_time: integer (nullable = true)\n",
      " |-- distance: integer (nullable = true)\n",
      " |-- hour: integer (nullable = true)\n",
      " |-- minute: integer (nullable = true)\n",
      "\n",
      "None\n",
      "+----+-----+---+--------+---------+--------+---------+-------+-------+------+------+----+--------+--------+----+------+\n",
      "|year|month|day|dep_time|dep_delay|arr_time|arr_delay|carrier|tailnum|flight|origin|dest|air_time|distance|hour|minute|\n",
      "+----+-----+---+--------+---------+--------+---------+-------+-------+------+------+----+--------+--------+----+------+\n",
      "|2014|   12|  8|     658|       -7|     935|       -5|     VX| N846VA|  1780|   SEA| LAX|     132|     954|   6|    58|\n",
      "|2014|    1| 22|    1040|        5|    1505|        5|     AS| N559AS|   851|   SEA| HNL|     360|    2677|  10|    40|\n",
      "+----+-----+---+--------+---------+--------+---------+-------+-------+------+------+----+--------+--------+----+------+\n",
      "only showing top 2 rows\n",
      "\n",
      "None\n"
     ]
    }
   ],
   "source": [
    "print(flights2.columns)\n",
    "print(flights2.printSchema())\n",
    "print(flights2.show(2))"
   ]
  },
  {
   "cell_type": "code",
   "execution_count": 383,
   "metadata": {},
   "outputs": [
    {
     "name": "stdout",
     "output_type": "stream",
     "text": [
      "+------------------+\n",
      "|   average_airtime|\n",
      "+------------------+\n",
      "|152.88423173803525|\n",
      "+------------------+\n",
      "\n"
     ]
    }
   ],
   "source": [
    "# average air time of flights2\n",
    "flights2.select(flights2.air_time).agg(avg(col(\"air_time\")).\\\n",
    "                                       alias('average_airtime')) .show()\n",
    "\n"
   ]
  },
  {
   "cell_type": "code",
   "execution_count": 384,
   "metadata": {},
   "outputs": [
    {
     "name": "stdout",
     "output_type": "stream",
     "text": [
      "1208.1516\n",
      "656.8599023464376\n"
     ]
    }
   ],
   "source": [
    "distance_stats = \\\n",
    "flights2.select(mean(col('distance')).alias('mean'),\n",
    "                stddev(col('distance')).alias('std')).collect()\n",
    "\n",
    "mean_dist = distance_stats[0]['mean']\n",
    "std_dist = distance_stats[0]['std']\n",
    "\n",
    "print(mean_dist)\n",
    "print(std_dist)"
   ]
  },
  {
   "cell_type": "code",
   "execution_count": 385,
   "metadata": {},
   "outputs": [
    {
     "name": "stdout",
     "output_type": "stream",
     "text": [
      "+----+\n",
      "|dest|\n",
      "+----+\n",
      "| MSY|\n",
      "| GEG|\n",
      "| BUR|\n",
      "| SNA|\n",
      "| EUG|\n",
      "| OAK|\n",
      "| DCA|\n",
      "| RDM|\n",
      "| KTN|\n",
      "| LIH|\n",
      "| IAH|\n",
      "| HNL|\n",
      "| SJC|\n",
      "| CVG|\n",
      "| AUS|\n",
      "| LGB|\n",
      "| RNO|\n",
      "| BOS|\n",
      "| EWR|\n",
      "| LAS|\n",
      "+----+\n",
      "only showing top 20 rows\n",
      "\n",
      "None\n",
      "69\n",
      "\n",
      "+----+\n",
      "|dest|\n",
      "+----+\n",
      "| LAX|\n",
      "| HNL|\n",
      "| SFO|\n",
      "| SJC|\n",
      "| BUR|\n",
      "| DEN|\n",
      "| OAK|\n",
      "| SAN|\n",
      "| ORD|\n",
      "| PHX|\n",
      "| LAS|\n",
      "| ANC|\n",
      "| SMF|\n",
      "| MDW|\n",
      "| BOS|\n",
      "| PHL|\n",
      "| RNO|\n",
      "| FAT|\n",
      "| OGG|\n",
      "| LGB|\n",
      "+----+\n",
      "only showing top 20 rows\n",
      "\n",
      "None\n",
      "69\n"
     ]
    }
   ],
   "source": [
    "# Distinct destinations\n",
    "# SQL\n",
    "query_166 = \"FROM df_flights SELECT DISTINCT(dest)\"\n",
    "dest_166 = spark.sql(query_166)\n",
    "print(dest_166.show())\n",
    "print(dest_166.count())\n",
    "\n",
    "print(\"\")\n",
    "\n",
    "# pyspark\n",
    "pydest = flights2.select('dest').distinct()\n",
    "print(pydest.show())\n",
    "print(pydest.count())"
   ]
  },
  {
   "cell_type": "code",
   "execution_count": 386,
   "metadata": {},
   "outputs": [
    {
     "name": "stdout",
     "output_type": "stream",
     "text": [
      "+-----------------+\n",
      "|   avg(dep_delay)|\n",
      "+-----------------+\n",
      "|9.735735735735735|\n",
      "+-----------------+\n",
      "\n",
      "+------------------+\n",
      "|standard deviation|\n",
      "+------------------+\n",
      "|21.065070210329193|\n",
      "+------------------+\n",
      "\n",
      "\n",
      "+------------------+\n",
      "|    avg(dep_delay)|\n",
      "+------------------+\n",
      "|1.5244755244755244|\n",
      "+------------------+\n",
      "\n",
      "+------------------+\n",
      "|standard deviation|\n",
      "+------------------+\n",
      "|16.116578887589313|\n",
      "+------------------+\n",
      "\n"
     ]
    }
   ],
   "source": [
    "flights2.filter(flights2.dest == 'OAK').groupby().avg('dep_delay').show()\n",
    "flights2.filter(flights2.dest == 'OAK').groupby().agg(stddev('dep_delay').alias(\"standard deviation\")).show()\n",
    "\n",
    "print(\"\")\n",
    "\n",
    "flights2.filter(flights2.dest == 'HNL').groupby().avg('dep_delay').show()\n",
    "flights2.filter(flights2.dest == 'HNL').groupby().\\\n",
    "agg(stddev('dep_delay').alias(\"standard deviation\")).show()\n",
    "\n",
    "# departure delay OAK is on average higher than HNL"
   ]
  },
  {
   "cell_type": "code",
   "execution_count": 387,
   "metadata": {},
   "outputs": [
    {
     "name": "stdout",
     "output_type": "stream",
     "text": [
      "+------+\n",
      "|origin|\n",
      "+------+\n",
      "|   SEA|\n",
      "|   PDX|\n",
      "+------+\n",
      "\n",
      "+-------------+\n",
      "|min(distance)|\n",
      "+-------------+\n",
      "|          106|\n",
      "+-------------+\n",
      "\n",
      "+-------------+\n",
      "|max(air_time)|\n",
      "+-------------+\n",
      "|          409|\n",
      "+-------------+\n",
      "\n"
     ]
    }
   ],
   "source": [
    "# origins?\n",
    "flights2.select('origin').distinct().show()\n",
    "\n",
    "# flight with shortest distance left from PDX\n",
    "flights2.filter(flights2.origin=='PDX').groupby().min('distance').show()\n",
    "\n",
    "# flight with maximal airtime starting in SEA\n",
    "flights2.filter(flights2.origin=='SEA').groupby().max('air_time').show()"
   ]
  },
  {
   "cell_type": "code",
   "execution_count": 388,
   "metadata": {},
   "outputs": [
    {
     "name": "stdout",
     "output_type": "stream",
     "text": [
      "['tailnum', 'year', 'type', 'manufacturer', 'model', 'engines', 'seats', 'speed', 'engine']\n",
      "\n",
      "+----------+\n",
      "|min(seats)|\n",
      "+----------+\n",
      "|         2|\n",
      "+----------+\n",
      "\n",
      "None\n",
      "+----------+\n",
      "|max(seats)|\n",
      "+----------+\n",
      "|       450|\n",
      "+----------+\n",
      "\n",
      "None\n"
     ]
    }
   ],
   "source": [
    "# column names of the plane table\n",
    "print(planes2.columns)\n",
    "print(\"\")\n",
    "# Minimum number of seats of any plane\n",
    "print(planes2.groupBy().min('seats').show())\n",
    "# Maximum number of seats of any plane\n",
    "print(planes2.groupBy().max('seats').show())"
   ]
  },
  {
   "cell_type": "code",
   "execution_count": 389,
   "metadata": {},
   "outputs": [
    {
     "name": "stdout",
     "output_type": "stream",
     "text": [
      "+------------------+\n",
      "|     avg(air_time)|\n",
      "+------------------+\n",
      "|188.20689655172413|\n",
      "+------------------+\n",
      "\n",
      "+------------------+\n",
      "| sum(duration_hrs)|\n",
      "+------------------+\n",
      "|25289.600000000126|\n",
      "+------------------+\n",
      "\n"
     ]
    }
   ],
   "source": [
    "# What is the average airtime of the carrier Delta flights\n",
    "# starting from SEA?\n",
    "flights2.filter(flights2.carrier=='DL').\\\n",
    "filter(flights2.origin=='SEA').groupBy().avg('air_time').show()\n",
    "\n",
    "# Total air time in hoursTotal hours \n",
    "flights2.withColumn(\"duration_hrs\", flights2.air_time/60).\\\n",
    "groupBy().sum('duration_hrs').show()"
   ]
  },
  {
   "cell_type": "code",
   "execution_count": 390,
   "metadata": {},
   "outputs": [
    {
     "name": "stdout",
     "output_type": "stream",
     "text": [
      "+-------+-----+\n",
      "|tailnum|count|\n",
      "+-------+-----+\n",
      "| N612AS|   51|\n",
      "| N224AG|   50|\n",
      "| N219AG|   50|\n",
      "| N218AG|   49|\n",
      "| N223AG|   49|\n",
      "| N611AS|   46|\n",
      "| N225AG|   45|\n",
      "| N607AS|   45|\n",
      "| N615AS|   45|\n",
      "| N435AS|   45|\n",
      "| N794AS|   42|\n",
      "| N216AG|   41|\n",
      "| N644AS|   41|\n",
      "| N627AS|   41|\n",
      "| N215AG|   41|\n",
      "| N622AS|   40|\n",
      "| N626AS|   40|\n",
      "| N619AS|   40|\n",
      "| N227AG|   40|\n",
      "| N413AS|   40|\n",
      "+-------+-----+\n",
      "only showing top 20 rows\n",
      "\n",
      "None\n",
      "tailnum    object\n",
      "count       int64\n",
      "dtype: object\n",
      "True\n",
      "(2252, 2)\n",
      "Index(['tailnum', 'count'], dtype='object')\n",
      "  tailnum  count\n",
      "0  N612AS     51\n",
      "1  N219AG     50\n",
      "2  N224AG     50\n",
      "3  N218AG     49\n",
      "4  N223AG     49\n"
     ]
    }
   ],
   "source": [
    "# count of tailnum\n",
    "\n",
    "tailnum_188 = flights2.groupBy(\"tailnum\").count().\\\n",
    "orderBy('count', ascending=False)\n",
    "print(tailnum_188.show())\n",
    "\n",
    "tailnum_188_pd = tailnum_188.toPandas()\n",
    "\n",
    "print(tailnum_188_pd .dtypes)\n",
    "print(isinstance(tailnum_188_pd, pd.DataFrame))\n",
    "print(tailnum_188_pd.shape)\n",
    "print(tailnum_188_pd.columns)\n",
    "print(tailnum_188_pd.head())\n",
    "\n"
   ]
  },
  {
   "cell_type": "code",
   "execution_count": 391,
   "metadata": {},
   "outputs": [
    {
     "data": {
      "image/png": "[encoded data removed]",
      "text/plain": [
       "<Figure size 936x216 with 1 Axes>"
      ]
     },
     "metadata": {
      "needs_background": "light"
     },
     "output_type": "display_data"
    }
   ],
   "source": [
    "# # top-ten count of tailnum\n",
    "tailnum_188_pd[:10].plot.bar(x='tailnum', y='count', edgecolor='black',\n",
    "                             linewidth=3, \n",
    "                             color=['goldenrod', 'lightseagreen'],\n",
    "                             legend=False, figsize=(13,3),\n",
    "                             title=\"top-ten count of tailnum\",\n",
    "                             grid=True)\n",
    "plt.show()"
   ]
  },
  {
   "cell_type": "code",
   "execution_count": 392,
   "metadata": {},
   "outputs": [
    {
     "name": "stdout",
     "output_type": "stream",
     "text": [
      "+-------+-----+\n",
      "|tailnum|count|\n",
      "+-------+-----+\n",
      "| N846VA|    6|\n",
      "| N559AS|   20|\n",
      "| N847VA|    5|\n",
      "| N360SW|    4|\n",
      "| N612AS|   51|\n",
      "| N646SW|    3|\n",
      "| N422WN|    4|\n",
      "| N361VA|    5|\n",
      "| N309AS|   27|\n",
      "| N564AS|   24|\n",
      "| N323AS|   31|\n",
      "| N305AS|   27|\n",
      "| N433AS|   39|\n",
      "| N765AS|   12|\n",
      "| N713AS|   31|\n",
      "| N27205|    2|\n",
      "| N626AS|   40|\n",
      "| N8634A|    1|\n",
      "| N597AS|   29|\n",
      "| N215AG|   41|\n",
      "+-------+-----+\n",
      "only showing top 20 rows\n",
      "\n"
     ]
    }
   ],
   "source": [
    "# Group by tailnum\n",
    "by_plane = flights2.groupBy(\"tailnum\")\n",
    "\n",
    "# Number of flights each plane made\n",
    "by_plane.count().show()"
   ]
  },
  {
   "cell_type": "code",
   "execution_count": 393,
   "metadata": {},
   "outputs": [
    {
     "name": "stdout",
     "output_type": "stream",
     "text": [
      "+------+------------------+\n",
      "|origin|     avg(air_time)|\n",
      "+------+------------------+\n",
      "|   SEA| 160.4361496051259|\n",
      "|   PDX|137.11543248288737|\n",
      "+------+------------------+\n",
      "\n"
     ]
    }
   ],
   "source": [
    "\n",
    "# Group by origin\n",
    "by_origin = flights2.groupBy(\"origin\")\n",
    "\n",
    "# Average duration of flights from PDX and SEA\n",
    "by_origin.avg(\"air_time\").show()"
   ]
  },
  {
   "cell_type": "code",
   "execution_count": 394,
   "metadata": {},
   "outputs": [
    {
     "name": "stdout",
     "output_type": "stream",
     "text": [
      "+-----+----+-------------------+\n",
      "|month|dest|     avg(dep_delay)|\n",
      "+-----+----+-------------------+\n",
      "|   12| LAX| 2.4827586206896552|\n",
      "|    1| HNL|               -5.1|\n",
      "|    3| SFO|  6.048387096774194|\n",
      "|    4| SJC|               7.28|\n",
      "|    3| BUR| 3.0588235294117645|\n",
      "|    1| DEN|  20.55263157894737|\n",
      "|    7| OAK|  9.807692307692308|\n",
      "|    5| SFO| 11.205479452054794|\n",
      "|    4| SAN| 0.2777777777777778|\n",
      "|   11| ORD|  5.956521739130435|\n",
      "|   11| LAX|  5.076923076923077|\n",
      "|    8| PHX| 1.5454545454545454|\n",
      "|   10| LAS|0.23809523809523808|\n",
      "|   11| ANC|  7.529411764705882|\n",
      "|   10| SFO|  9.303030303030303|\n",
      "|    1| SFO|               6.56|\n",
      "|   12| SMF|               17.0|\n",
      "|    8| MDW|               7.45|\n",
      "|    1| BOS|             11.625|\n",
      "|    6| BUR| -6.333333333333333|\n",
      "+-----+----+-------------------+\n",
      "only showing top 20 rows\n",
      "\n",
      "None\n",
      "+-----+----+----------------------+\n",
      "|month|dest|stddev_samp(dep_delay)|\n",
      "+-----+----+----------------------+\n",
      "|   12| LAX|     11.35033256169544|\n",
      "|    1| HNL|     4.557045826702499|\n",
      "|    3| SFO|    26.806793498733956|\n",
      "|    4| SJC|    17.157408506725798|\n",
      "|    3| BUR|    22.317231538195138|\n",
      "|    1| DEN|     44.90211417909506|\n",
      "|    7| OAK|     19.75048198048692|\n",
      "|    5| SFO|    30.214032291906637|\n",
      "|    4| SAN|     11.27102247856947|\n",
      "|   11| ORD|    13.949513712180941|\n",
      "|   11| LAX|    17.816984795684508|\n",
      "|    8| PHX|    11.380224678892409|\n",
      "|   10| LAS|    11.726163208844765|\n",
      "|   11| ANC|    18.604716401245316|\n",
      "|   10| SFO|     31.07607028763683|\n",
      "|    1| SFO|     24.32950673481038|\n",
      "|   12| SMF|     32.29431957671623|\n",
      "|    8| MDW|    14.467659032985843|\n",
      "|    1| BOS|    40.028338176132884|\n",
      "|    6| BUR|     5.046450898073483|\n",
      "+-----+----+----------------------+\n",
      "only showing top 20 rows\n",
      "\n"
     ]
    }
   ],
   "source": [
    "# Group by month and dest\n",
    "by_month_dest = flights2.groupBy('month' , 'dest')\n",
    "\n",
    "# Average departure delay by month and destination\n",
    "by_month_dest_avg = by_month_dest.avg('dep_delay')\n",
    "print(by_month_dest_avg.show())\n",
    "\n",
    "\n",
    "# Standard deviation of departure delay\n",
    "by_month_dest.agg(F.stddev('dep_delay')).show()\n"
   ]
  },
  {
   "cell_type": "code",
   "execution_count": 395,
   "metadata": {},
   "outputs": [
    {
     "data": {
      "image/png": "[encoded data removed]",
      "text/plain": [
       "<Figure size 936x288 with 1 Axes>"
      ]
     },
     "metadata": {
      "needs_background": "light"
     },
     "output_type": "display_data"
    }
   ],
   "source": [
    "dest_199 =  by_month_dest_avg.toPandas()\n",
    "dest_199[:10].plot.bar(x='dest', y='avg(dep_delay)', grid=True,\n",
    "                       edgecolor='black',\n",
    "                       linewidth=3, \n",
    "                       color=['goldenrod', 'lightseagreen'],\n",
    "                       legend=False, figsize=(13,4),\n",
    "                       title=\"top-ten delay by destination\")\n",
    "plt.show()"
   ]
  },
  {
   "cell_type": "markdown",
   "metadata": {},
   "source": [
    "#### Planes"
   ]
  },
  {
   "cell_type": "code",
   "execution_count": 396,
   "metadata": {},
   "outputs": [
    {
     "name": "stdout",
     "output_type": "stream",
     "text": [
      "['tailnum', 'year', 'type', 'manufacturer', 'model', 'engines', 'seats', 'speed', 'engine']\n",
      "+-----+\n",
      "|speed|\n",
      "+-----+\n",
      "|   NA|\n",
      "|   NA|\n",
      "|   NA|\n",
      "|   NA|\n",
      "|   NA|\n",
      "|   NA|\n",
      "|   NA|\n",
      "|   NA|\n",
      "|   NA|\n",
      "|   NA|\n",
      "+-----+\n",
      "only showing top 10 rows\n",
      "\n",
      "None\n"
     ]
    }
   ],
   "source": [
    "print(df_planes.columns)\n",
    "print(df_planes.select('speed').show(10))"
   ]
  },
  {
   "cell_type": "code",
   "execution_count": 397,
   "metadata": {},
   "outputs": [
    {
     "name": "stdout",
     "output_type": "stream",
     "text": [
      "['tailnum', 'year', 'type', 'manufacturer', 'model', 'engines', 'seats', 'speed', 'engine']\n",
      "root\n",
      " |-- tailnum: string (nullable = true)\n",
      " |-- year: string (nullable = true)\n",
      " |-- type: string (nullable = true)\n",
      " |-- manufacturer: string (nullable = true)\n",
      " |-- model: string (nullable = true)\n",
      " |-- engines: integer (nullable = true)\n",
      " |-- seats: integer (nullable = true)\n",
      " |-- speed: string (nullable = true)\n",
      " |-- engine: string (nullable = true)\n",
      "\n",
      "None\n",
      "+-------+----+--------------------+----------------+--------+-------+-----+-----+---------+\n",
      "|tailnum|year|                type|    manufacturer|   model|engines|seats|speed|   engine|\n",
      "+-------+----+--------------------+----------------+--------+-------+-----+-----+---------+\n",
      "| N102UW|1998|Fixed wing multi ...|AIRBUS INDUSTRIE|A320-214|      2|  182|   NA|Turbo-fan|\n",
      "| N103US|1999|Fixed wing multi ...|AIRBUS INDUSTRIE|A320-214|      2|  182|   NA|Turbo-fan|\n",
      "+-------+----+--------------------+----------------+--------+-------+-----+-----+---------+\n",
      "only showing top 2 rows\n",
      "\n",
      "None\n"
     ]
    }
   ],
   "source": [
    "print(planes2.columns)\n",
    "print(planes2.printSchema())\n",
    "print(planes2.show(2))\n",
    "\n"
   ]
  },
  {
   "cell_type": "code",
   "execution_count": 398,
   "metadata": {},
   "outputs": [
    {
     "name": "stdout",
     "output_type": "stream",
     "text": [
      "+---------+-----+\n",
      "|    model|seats|\n",
      "+---------+-----+\n",
      "|  747-451|  450|\n",
      "|777-232LR|  442|\n",
      "|  777-224|  400|\n",
      "|  777-224|  400|\n",
      "| A321-231|  379|\n",
      "+---------+-----+\n",
      "only showing top 5 rows\n",
      "\n"
     ]
    },
    {
     "data": {
      "image/png": "[encoded data removed]",
      "text/plain": [
       "<Figure size 432x288 with 1 Axes>"
      ]
     },
     "metadata": {
      "needs_background": "light"
     },
     "output_type": "display_data"
    }
   ],
   "source": [
    "seats_55 = \\\n",
    "planes2.select(['model', 'seats']).orderBy('seats', ascending=False)\n",
    "seats_55.show(5)\n",
    "\n",
    "seats_55_pd = seats_55.toPandas()\n",
    "\n",
    "seats_55_pd.model.value_counts()[:10]\n",
    "\n",
    "seats_55_pd.model.value_counts()[:10].\\\n",
    "plot.bar(legend=False, title=\"top ten models by ten\", edgecolor='red',\n",
    "         linewidth=4, color=['black', \"gray\"], grid=True)\n",
    "plt.show()"
   ]
  },
  {
   "cell_type": "markdown",
   "metadata": {},
   "source": [
    "### Nan & Null values\n",
    "\n",
    "as shown in the SQL section speed of planes consists mostly of Null values. This is replicated now with pyspark."
   ]
  },
  {
   "cell_type": "code",
   "execution_count": 399,
   "metadata": {},
   "outputs": [
    {
     "name": "stdout",
     "output_type": "stream",
     "text": [
      "+-----+\n",
      "|speed|\n",
      "+-----+\n",
      "|   NA|\n",
      "|   NA|\n",
      "|   NA|\n",
      "|   NA|\n",
      "|   NA|\n",
      "+-----+\n",
      "only showing top 5 rows\n",
      "\n"
     ]
    }
   ],
   "source": [
    "planes2.select('speed').show(5)"
   ]
  },
  {
   "cell_type": "code",
   "execution_count": 400,
   "metadata": {},
   "outputs": [],
   "source": [
    "# convert some variables to integer\n",
    "\n",
    "planes_cols = \\\n",
    "['year',  'seats', 'speed']\n",
    "\n",
    "\n",
    "for i in planes_cols:\n",
    "    planes3 = planes2.withColumn(i, planes2[i].cast(IntegerType()))"
   ]
  },
  {
   "cell_type": "code",
   "execution_count": 401,
   "metadata": {},
   "outputs": [
    {
     "name": "stdout",
     "output_type": "stream",
     "text": [
      "+-----+\n",
      "|speed|\n",
      "+-----+\n",
      "| null|\n",
      "| null|\n",
      "| null|\n",
      "+-----+\n",
      "only showing top 3 rows\n",
      "\n",
      "None\n",
      "+-----+\n",
      "|speed|\n",
      "+-----+\n",
      "|   NA|\n",
      "|   NA|\n",
      "|   NA|\n",
      "|   NA|\n",
      "|   NA|\n",
      "|   NA|\n",
      "|   NA|\n",
      "|   NA|\n",
      "|   NA|\n",
      "|   NA|\n",
      "|   NA|\n",
      "|   NA|\n",
      "|   NA|\n",
      "|   NA|\n",
      "|   NA|\n",
      "|   NA|\n",
      "|   NA|\n",
      "|   NA|\n",
      "|   NA|\n",
      "|   NA|\n",
      "+-----+\n",
      "only showing top 20 rows\n",
      "\n",
      "None\n",
      "2622\n",
      "2628\n"
     ]
    }
   ],
   "source": [
    "# null values?\n",
    "null_1 = planes3.select('speed').where(col(\"speed\").isNull())\n",
    "\n",
    "print(null_1.show(3))\n",
    "print(planes2.select('speed').show())\n",
    "print(null_1.count())\n",
    "print(planes2.count())\n"
   ]
  },
  {
   "cell_type": "code",
   "execution_count": 402,
   "metadata": {},
   "outputs": [
    {
     "name": "stdout",
     "output_type": "stream",
     "text": [
      "+-------+----+----+------------+-----+-------+-----+-----+------+\n",
      "|tailnum|year|type|manufacturer|model|engines|seats|speed|engine|\n",
      "+-------+----+----+------------+-----+-------+-----+-----+------+\n",
      "+-------+----+----+------------+-----+-------+-----+-----+------+\n",
      "\n"
     ]
    },
    {
     "data": {
      "text/plain": [
       "0"
      ]
     },
     "execution_count": 402,
     "metadata": {},
     "output_type": "execute_result"
    }
   ],
   "source": [
    "# check for nan-values\n",
    "# https://stackoverflow.com/questions/43882699/differences-between-null-and-nan-in-spark-how-to-deal-with-it/43883025\n",
    "\n",
    "nan_1 = planes2.where(isnan(col(\"speed\")))\n",
    "nan_1.show()\n",
    "nan_1.count()"
   ]
  },
  {
   "cell_type": "markdown",
   "metadata": {},
   "source": [
    "Dropping Null values results in ony 6 observations."
   ]
  },
  {
   "cell_type": "code",
   "execution_count": 403,
   "metadata": {},
   "outputs": [
    {
     "name": "stdout",
     "output_type": "stream",
     "text": [
      "6\n",
      "9\n"
     ]
    }
   ],
   "source": [
    "# df.na.drop(subset=[\"dt_mvmt\"])\n",
    "# https://stackoverflow.com/questions/37262762/filter-pyspark-dataframe-column-with-none-value\n",
    "\n",
    "planes4 = planes3.na.drop(subset=[\"speed\"])\n",
    "\n",
    "print(planes4.count())\n",
    "print(len(planes4.columns))\n"
   ]
  },
  {
   "cell_type": "code",
   "execution_count": 404,
   "metadata": {},
   "outputs": [
    {
     "name": "stdout",
     "output_type": "stream",
     "text": [
      "+-------------+\n",
      "|       engine|\n",
      "+-------------+\n",
      "|    Turbo-fan|\n",
      "|    Turbo-jet|\n",
      "|Reciprocating|\n",
      "|   Turbo-prop|\n",
      "|  Turbo-shaft|\n",
      "|      4 Cycle|\n",
      "+-------------+\n",
      "\n"
     ]
    }
   ],
   "source": [
    "# What engines types are there?\n",
    "planes3.select('engine').distinct().show()"
   ]
  },
  {
   "cell_type": "code",
   "execution_count": 405,
   "metadata": {},
   "outputs": [
    {
     "name": "stdout",
     "output_type": "stream",
     "text": [
      "+-------------+\n",
      "|       engine|\n",
      "+-------------+\n",
      "|    Turbo-fan|\n",
      "|    Turbo-jet|\n",
      "|Reciprocating|\n",
      "|   Turbo-prop|\n",
      "|  Turbo-shaft|\n",
      "|      4 Cycle|\n",
      "+-------------+\n",
      "\n"
     ]
    }
   ],
   "source": [
    "planes3.select('engine').distinct().show()"
   ]
  },
  {
   "cell_type": "code",
   "execution_count": 406,
   "metadata": {},
   "outputs": [
    {
     "name": "stdout",
     "output_type": "stream",
     "text": [
      "+-------------+----------+\n",
      "|       engine|avg(speed)|\n",
      "+-------------+----------+\n",
      "|    Turbo-fan|      null|\n",
      "|    Turbo-jet|      null|\n",
      "|Reciprocating|    103.25|\n",
      "|   Turbo-prop|      null|\n",
      "|  Turbo-shaft|     112.0|\n",
      "|      4 Cycle|     108.0|\n",
      "+-------------+----------+\n",
      "\n"
     ]
    }
   ],
   "source": [
    "# group_data.agg({'Sales':'max'}).show()\n",
    "planes3.groupby('engine').agg({'speed':'avg'}).show()"
   ]
  },
  {
   "cell_type": "code",
   "execution_count": 407,
   "metadata": {},
   "outputs": [
    {
     "name": "stdout",
     "output_type": "stream",
     "text": [
      "+-------+\n",
      "|engines|\n",
      "+-------+\n",
      "|      2|\n",
      "|      1|\n",
      "|      4|\n",
      "|      3|\n",
      "+-------+\n",
      "\n"
     ]
    }
   ],
   "source": [
    "# group by engines = number of engines\n",
    "planes3.select('engines').distinct().show()"
   ]
  },
  {
   "cell_type": "code",
   "execution_count": 408,
   "metadata": {},
   "outputs": [
    {
     "name": "stdout",
     "output_type": "stream",
     "text": [
      "+-------------+------------+\n",
      "|       engine|max(engines)|\n",
      "+-------------+------------+\n",
      "|    Turbo-fan|           3|\n",
      "|    Turbo-jet|           4|\n",
      "|Reciprocating|           2|\n",
      "|   Turbo-prop|           2|\n",
      "|  Turbo-shaft|           2|\n",
      "|      4 Cycle|           1|\n",
      "+-------------+------------+\n",
      "\n"
     ]
    }
   ],
   "source": [
    "# group by engines = number of engines\n",
    "engine_34 = planes3.groupby('engine')\n",
    "\n",
    "engine_34.max('engines').show()"
   ]
  },
  {
   "cell_type": "code",
   "execution_count": 409,
   "metadata": {},
   "outputs": [
    {
     "name": "stdout",
     "output_type": "stream",
     "text": [
      "+-------------+-------+-------+----+----+\n",
      "|       engine|maximum|minimum|mean|mean|\n",
      "+-------------+-------+-------+----+----+\n",
      "|    Turbo-fan|      3|      2| 2.0|0.07|\n",
      "|    Turbo-jet|      4|      2| 2.0|0.09|\n",
      "|Reciprocating|      2|      1| 1.1|0.32|\n",
      "|   Turbo-prop|      2|      2| 2.0| 0.0|\n",
      "|  Turbo-shaft|      2|      1|1.33|0.58|\n",
      "|      4 Cycle|      1|      1| 1.0| NaN|\n",
      "+-------------+-------+-------+----+----+\n",
      "\n"
     ]
    }
   ],
   "source": [
    "engine_34.agg(F.max(planes3.engines).alias('maximum'),\n",
    "              F.min(planes3.engines).alias('minimum'),\n",
    "              round(F.mean(planes3.engines),2).alias('mean'),\n",
    "              round(F.stddev(planes3.engines),2).alias('mean')).show()"
   ]
  },
  {
   "cell_type": "markdown",
   "metadata": {},
   "source": [
    "### Joining\n",
    "\n",
    "<p>\n",
    "needs a (primary) key variable in one table and another (secondary) key\n",
    "variable in the joining table. Keys are variables with values shared by both tables, while the name of the variables can differ. It depends on how (left join, right join ...) the tables are joined, which table is seen as the joining table.\n",
    "</p> \n"
   ]
  },
  {
   "cell_type": "markdown",
   "metadata": {},
   "source": [
    "#### Join flights with airport"
   ]
  },
  {
   "cell_type": "code",
   "execution_count": 410,
   "metadata": {},
   "outputs": [
    {
     "name": "stdout",
     "output_type": "stream",
     "text": [
      "['faa', 'name', 'lat', 'lon', 'alt', 'tz', 'dst']\n",
      "\n",
      "['year', 'month', 'day', 'dep_time', 'dep_delay', 'arr_time', 'arr_delay', 'carrier', 'tailnum', 'flight', 'origin', 'dest', 'air_time', 'distance', 'hour', 'minute']\n"
     ]
    }
   ],
   "source": [
    "# Joining the flight and the airport tables.\n",
    "# Which tables can be used as keys?\n",
    "\n",
    "print(airports2.columns)\n",
    "print(\"\")\n",
    "print(flights2.columns)"
   ]
  },
  {
   "cell_type": "code",
   "execution_count": 411,
   "metadata": {},
   "outputs": [
    {
     "name": "stdout",
     "output_type": "stream",
     "text": [
      "+---+--------------------+----------+-----------+----+---+---+\n",
      "|faa|                name|       lat|        lon| alt| tz|dst|\n",
      "+---+--------------------+----------+-----------+----+---+---+\n",
      "|04G|   Lansdowne Airport|41.1304722|-80.6195833|1044| -5|  A|\n",
      "|06A|Moton Field Munic...|32.4605722|-85.6800278| 264| -5|  A|\n",
      "+---+--------------------+----------+-----------+----+---+---+\n",
      "only showing top 2 rows\n",
      "\n",
      "None\n",
      "+----+\n",
      "|dest|\n",
      "+----+\n",
      "| LAX|\n",
      "| HNL|\n",
      "+----+\n",
      "only showing top 2 rows\n",
      "\n",
      "None\n"
     ]
    }
   ],
   "source": [
    "# Are faa and dest candidates for keys?\n",
    "\n",
    "print(airports2.show(2))\n",
    "\n",
    "print(flights2.select('dest').show(2))"
   ]
  },
  {
   "cell_type": "code",
   "execution_count": 412,
   "metadata": {},
   "outputs": [
    {
     "name": "stdout",
     "output_type": "stream",
     "text": [
      "+---+\n",
      "|faa|\n",
      "+---+\n",
      "|04G|\n",
      "|06A|\n",
      "|06C|\n",
      "|06N|\n",
      "|09J|\n",
      "+---+\n",
      "only showing top 5 rows\n",
      "\n",
      "None\n",
      "69\n",
      "1396\n"
     ]
    }
   ],
   "source": [
    "print(airports2.select('faa').distinct().show(5))\n",
    "\n",
    "dest_1265 = flights2.select('dest').distinct()\n",
    "print(dest_1265.count())\n",
    "dest_6000 = airports2.select('faa').distinct()\n",
    "print(dest_6000.count())\n",
    "\n",
    "# It seems the aiport table includes more airports than\n",
    "# destinations in the flight table"
   ]
  },
  {
   "cell_type": "code",
   "execution_count": 413,
   "metadata": {},
   "outputs": [
    {
     "name": "stdout",
     "output_type": "stream",
     "text": [
      "+---+----------------+---------+-----------+---+---+---+\n",
      "|faa|            name|      lat|        lon|alt| tz|dst|\n",
      "+---+----------------+---------+-----------+---+---+---+\n",
      "|LAX|Los Angeles Intl|33.942536|-118.408075|126| -8|  A|\n",
      "+---+----------------+---------+-----------+---+---+---+\n",
      "\n",
      "+----+------+\n",
      "|dest|origin|\n",
      "+----+------+\n",
      "| LAX|   SEA|\n",
      "| LAX|   SEA|\n",
      "| LAX|   SEA|\n",
      "+----+------+\n",
      "only showing top 3 rows\n",
      "\n"
     ]
    }
   ],
   "source": [
    "airports2.filter(airports2.faa=='LAX').show()\n",
    "flights2.select(['dest', 'origin']).filter(flights2.dest=='LAX').show(3)"
   ]
  },
  {
   "cell_type": "code",
   "execution_count": 414,
   "metadata": {},
   "outputs": [
    {
     "name": "stdout",
     "output_type": "stream",
     "text": [
      "+---+-------------+---------+---------+---+---+---+\n",
      "|faa|         name|      lat|      lon|alt| tz|dst|\n",
      "+---+-------------+---------+---------+---+---+---+\n",
      "|PDX|Portland Intl|45.588722|-122.5975| 30| -8|  A|\n",
      "+---+-------------+---------+---------+---+---+---+\n",
      "\n",
      "+----+------+\n",
      "|dest|origin|\n",
      "+----+------+\n",
      "| PDX|   SEA|\n",
      "| PDX|   SEA|\n",
      "| PDX|   SEA|\n",
      "+----+------+\n",
      "only showing top 3 rows\n",
      "\n"
     ]
    }
   ],
   "source": [
    "airports2.filter(airports2.faa=='PDX').show()\n",
    "flights2.select(['dest', 'origin']).filter(flights2.dest=='PDX').show(3)\n"
   ]
  },
  {
   "cell_type": "code",
   "execution_count": 415,
   "metadata": {},
   "outputs": [
    {
     "name": "stdout",
     "output_type": "stream",
     "text": [
      "['dest', 'name', 'lat', 'lon', 'alt', 'tz', 'dst']\n"
     ]
    }
   ],
   "source": [
    "airports3 = airports2.withColumnRenamed('faa' , 'dest')\n",
    "# faa = old name, dest = new name\n",
    "print(airports3.columns)"
   ]
  },
  {
   "cell_type": "code",
   "execution_count": 416,
   "metadata": {},
   "outputs": [
    {
     "name": "stdout",
     "output_type": "stream",
     "text": [
      "16\n",
      "7\n",
      "22\n",
      "22\n",
      "+--------------------+---------+-----------+----+--------+-------+\n",
      "|                name|      lat|        lon|dest|air_time|carrier|\n",
      "+--------------------+---------+-----------+----+--------+-------+\n",
      "|    Los Angeles Intl|33.942536|-118.408075| LAX|     132|     VX|\n",
      "|       Honolulu Intl|21.318681|-157.922428| HNL|     360|     AS|\n",
      "|  San Francisco Intl|37.618972|-122.374889| SFO|     111|     VX|\n",
      "|Norman Y Mineta S...|  37.3626|-121.929022| SJC|      83|     WN|\n",
      "|            Bob Hope|34.200667|-118.358667| BUR|     127|     AS|\n",
      "|         Denver Intl|39.861656|-104.673178| DEN|     121|     WN|\n",
      "|Metropolitan Oakl...|37.721278|-122.220722| OAK|      90|     WN|\n",
      "|  San Francisco Intl|37.618972|-122.374889| SFO|      98|     VX|\n",
      "|      San Diego Intl|32.733556|-117.189667| SAN|     135|     AS|\n",
      "|  Chicago Ohare Intl|41.978603| -87.904842| ORD|     198|     AS|\n",
      "+--------------------+---------+-----------+----+--------+-------+\n",
      "only showing top 10 rows\n",
      "\n"
     ]
    }
   ],
   "source": [
    "join_flair = flights2.join(airports3, on=\"dest\", how='leftouter')\n",
    "# left table = flights2, right table = aiports3\n",
    "\n",
    "print(len(flights2.columns))\n",
    "print(len(airports3.columns))\n",
    "print(len(join_flair.columns))\n",
    "print(16+7-1)\n",
    "\n",
    "join_flair.\\\n",
    "select('name', 'lat', 'lon', 'dest', 'air_time', 'carrier').show(10)\n",
    "\n",
    "# check: \n",
    "# name Los Angeles Intl correct with LAX\n",
    "# name San Francisco Intl correct with SFO"
   ]
  },
  {
   "cell_type": "markdown",
   "metadata": {},
   "source": [
    "#### Joining planes with flights"
   ]
  },
  {
   "cell_type": "code",
   "execution_count": 417,
   "metadata": {},
   "outputs": [
    {
     "name": "stdout",
     "output_type": "stream",
     "text": [
      "['tailnum', 'year', 'type', 'manufacturer', 'model', 'engines', 'seats', 'speed', 'engine']\n",
      "['year', 'month', 'day', 'dep_time', 'dep_delay', 'arr_time', 'arr_delay', 'carrier', 'tailnum', 'flight', 'origin', 'dest', 'air_time', 'distance', 'hour', 'minute']\n"
     ]
    }
   ],
   "source": [
    "print(planes2.columns)\n",
    "print(flights2.columns)\n",
    "# This seems easy: tailnum"
   ]
  },
  {
   "cell_type": "code",
   "execution_count": 418,
   "metadata": {},
   "outputs": [],
   "source": [
    "join_flair = flights2.join(airports3, on=\"dest\", how='leftouter')\n",
    "# left table = flights2, right table = aiports3\n"
   ]
  },
  {
   "cell_type": "code",
   "execution_count": 419,
   "metadata": {},
   "outputs": [
    {
     "name": "stdout",
     "output_type": "stream",
     "text": [
      "['tailnum', 'year', 'type', 'manufacturer', 'model', 'engines', 'seats', 'speed', 'engine', 'year', 'month', 'day', 'dep_time', 'dep_delay', 'arr_time', 'arr_delay', 'carrier', 'flight', 'origin', 'dest', 'air_time', 'distance', 'hour', 'minute']\n",
      "24\n",
      "9\n",
      "16\n",
      "24\n"
     ]
    }
   ],
   "source": [
    "join_plf = planes2.join(flights2, on=\"tailnum\", how='rightouter')\n",
    "\n",
    "print(join_plf.columns)\n",
    "print(len(join_plf.columns))\n",
    "print(len(planes2.columns))\n",
    "print(len(flights2.columns))\n",
    "print(16+9-1)"
   ]
  },
  {
   "cell_type": "code",
   "execution_count": 420,
   "metadata": {},
   "outputs": [
    {
     "name": "stdout",
     "output_type": "stream",
     "text": [
      "+-------+------------+--------+-------+------+--------+\n",
      "|tailnum|manufacturer|   model|carrier|flight|distance|\n",
      "+-------+------------+--------+-------+------+--------+\n",
      "| N846VA|      AIRBUS|A320-214|     VX|  1780|     954|\n",
      "| N559AS|      BOEING| 737-890|     AS|   851|    2677|\n",
      "| N847VA|      AIRBUS|A320-214|     VX|   755|     679|\n",
      "| N360SW|      BOEING| 737-3H4|     WN|   344|     569|\n",
      "| N612AS|      BOEING| 737-790|     AS|   522|     937|\n",
      "| N646SW|      BOEING| 737-3H4|     WN|    48|     991|\n",
      "| N422WN|      BOEING| 737-7H4|     WN|  1520|     543|\n",
      "| N361VA|      AIRBUS|A320-214|     VX|   755|     679|\n",
      "| N309AS|      BOEING| 737-990|     AS|   490|    1050|\n",
      "| N564AS|      BOEING| 737-890|     AS|    26|    1721|\n",
      "+-------+------------+--------+-------+------+--------+\n",
      "only showing top 10 rows\n",
      "\n"
     ]
    }
   ],
   "source": [
    "join_plf.\\\n",
    "select('tailnum', 'manufacturer', 'model', \n",
    "       'carrier', 'flight', 'distance').show(10)"
   ]
  },
  {
   "cell_type": "code",
   "execution_count": 421,
   "metadata": {},
   "outputs": [
    {
     "name": "stdout",
     "output_type": "stream",
     "text": [
      "+--------------------+-------------+\n",
      "|        manufacturer|mean_distance|\n",
      "+--------------------+-------------+\n",
      "|              AIRBUS|    1375.0629|\n",
      "|              BOEING|     1245.056|\n",
      "|      BOMBARDIER INC|     749.3497|\n",
      "|    AIRBUS INDUSTRIE|    1318.1736|\n",
      "|             EMBRAER|      127.293|\n",
      "|                BELL|       1616.0|\n",
      "|   MCDONNELL DOUGLAS|    1554.7872|\n",
      "|            CANADAIR|       731.25|\n",
      "|ROBINSON HELICOPT...|     925.3333|\n",
      "|       BARKER JACK L|        965.0|\n",
      "|  CIRRUS DESIGN CORP|       1693.5|\n",
      "|              CESSNA|       1616.0|\n",
      "|                null|     1621.942|\n",
      "+--------------------+-------------+\n",
      "\n"
     ]
    },
    {
     "data": {
      "image/png": "[encoded data removed]",
      "text/plain": [
       "<Figure size 1080x360 with 1 Axes>"
      ]
     },
     "metadata": {
      "needs_background": "light"
     },
     "output_type": "display_data"
    }
   ],
   "source": [
    "dist_4999 = \\\n",
    "join_plf.groupby('manufacturer').agg(round(F.mean('distance'),4).alias(\"mean_distance\"))\n",
    "\n",
    "dist_4999.show()\n",
    "\n",
    "dist_4999_pd = dist_4999.toPandas()\n",
    "\n",
    "dist_4999_pd.sort_values(by='mean_distance')\\\n",
    ".plot.bar(x='manufacturer', edgecolor=\"black\",\n",
    "          linewidth=4, \n",
    "          legend=False, \n",
    "          title=\"Average distance by manufacturer\",\n",
    "          grid=True, figsize=(15,5),\n",
    "          color='red')\n",
    "plt.ylabel('mean_distance')\n",
    "plt.show()"
   ]
  }
 ],
 "metadata": {
  "kernelspec": {
   "display_name": "Python 3",
   "language": "python",
   "name": "python3"
  },
  "language_info": {
   "codemirror_mode": {
    "name": "ipython",
    "version": 3
   },
   "file_extension": ".py",
   "mimetype": "text/x-python",
   "name": "python",
   "nbconvert_exporter": "python",
   "pygments_lexer": "ipython3",
   "version": "3.7.4"
  }
 },
 "nbformat": 4,
 "nbformat_minor": 2
}
